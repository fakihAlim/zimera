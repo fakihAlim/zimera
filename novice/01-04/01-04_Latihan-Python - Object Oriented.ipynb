{
 "cells": [
  {
   "cell_type": "markdown",
   "metadata": {},
   "source": [
    "# Python - Object Oriented\n",
    "\n",
    "### Python Accessing Attributes"
   ]
  },
  {
   "cell_type": "code",
   "execution_count": 5,
   "metadata": {},
   "outputs": [
    {
     "name": "stdout",
     "output_type": "stream",
     "text": [
      "Name :  Zara , Salary:  2000\n",
      "Name :  Manni , Salary:  5000\n",
      "Total Employee 2\n"
     ]
    }
   ],
   "source": [
    "class Employee:\n",
    "   # Common base class for all employees'\n",
    "   empCount = 0\n",
    "\n",
    "   def __init__(self, name, salary):\n",
    "      self.name = name\n",
    "      self.salary = salary\n",
    "      Employee.empCount += 1\n",
    "   \n",
    "   def displayCount(self):\n",
    "     print (\"Total Employee %d\" % Employee.empCount)\n",
    "\n",
    "   def displayEmployee(self):\n",
    "      print (\"Name : \", self.name,  \", Salary: \", self.salary)\n",
    "\n",
    "#\"This would create first object of Employee class\")\n",
    "emp1 = Employee(\"Zara\", 2000)\n",
    "#\"This would create second object of Employee class\")\n",
    "emp2 = Employee(\"Manni\", 5000)\n",
    "emp1.displayEmployee()\n",
    "emp2.displayEmployee()\n",
    "print (\"Total Employee %d\" % Employee.empCount)"
   ]
  }
 ],
 "metadata": {
  "interpreter": {
   "hash": "1dbe5302cb3bb4c0fe4e492535fb181d3f49e6b02a7d389fb2104bcbd574eaf4"
  },
  "kernelspec": {
   "display_name": "Python 3.9.7 64-bit ('py39-nlp': conda)",
   "language": "python",
   "name": "python3"
  },
  "language_info": {
   "codemirror_mode": {
    "name": "ipython",
    "version": 3
   },
   "file_extension": ".py",
   "mimetype": "text/x-python",
   "name": "python",
   "nbconvert_exporter": "python",
   "pygments_lexer": "ipython3",
   "version": "3.9.7"
  },
  "orig_nbformat": 4
 },
 "nbformat": 4,
 "nbformat_minor": 2
}
