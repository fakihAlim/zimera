{
 "cells": [
  {
   "cell_type": "markdown",
   "metadata": {},
   "source": [
    "# Latihan 02"
   ]
  },
  {
   "cell_type": "markdown",
   "metadata": {},
   "source": [
    "### Kelas Modular dengan Mixins"
   ]
  },
  {
   "cell_type": "code",
   "execution_count": 13,
   "metadata": {},
   "outputs": [
    {
     "name": "stdout",
     "output_type": "stream",
     "text": [
      "(<class '__main__.Child'>, <class '__main__.Parent1'>, <class '__main__.Parent2'>, <class '__main__.Ancestor'>, <class 'object'>)\n",
      "Ancestor: rewind\n",
      "Parent1: open\n",
      "Parent2: close\n",
      "child: flush\n"
     ]
    }
   ],
   "source": [
    "class Ancestor:\n",
    "    def rewind(self):\n",
    "        print(\"Ancestor: rewind\")\n",
    "\n",
    "\n",
    "class Parent1(Ancestor):\n",
    "    def open(self):\n",
    "        print(\"Parent1: open\")\n",
    "\n",
    "\n",
    "class Parent2(Ancestor):\n",
    "    def open(self):\n",
    "        print(\"Parent2: open\")\n",
    "\n",
    "    def close(self):\n",
    "        print(\"Parent2: close\")\n",
    "\n",
    "    def flush(self):\n",
    "        print(\"Parent2: flush\")\n",
    "\n",
    "\n",
    "class Child(Parent1, Parent2):\n",
    "    def flush(self):\n",
    "        super().flush() # pakai kata super() untuk mengambil flush milik orang tuanya\n",
    "    def flush(self):\n",
    "        print(\"child: flush\")\n",
    "\n",
    "\n",
    "print(Child.__mro__)\n",
    "\n",
    "c = Child()\n",
    "c.rewind()\n",
    "c.open()\n",
    "c.close()\n",
    "c.flush()"
   ]
  },
  {
   "cell_type": "code",
   "execution_count": 7,
   "metadata": {},
   "outputs": [
    {
     "ename": "TypeError",
     "evalue": "resize() takes 2 positional arguments but 3 were given",
     "output_type": "error",
     "traceback": [
      "\u001b[1;31m---------------------------------------------------------------------------\u001b[0m",
      "\u001b[1;31mTypeError\u001b[0m                                 Traceback (most recent call last)",
      "\u001b[1;32m~\\AppData\\Local\\Temp/ipykernel_12684/1212705607.py\u001b[0m in \u001b[0;36m<module>\u001b[1;34m\u001b[0m\n\u001b[0;32m     31\u001b[0m     \u001b[0msize_x\u001b[0m \u001b[1;33m=\u001b[0m \u001b[0mshape\u001b[0m\u001b[1;33m.\u001b[0m\u001b[0msize_x\u001b[0m\u001b[1;33m\u001b[0m\u001b[1;33m\u001b[0m\u001b[0m\n\u001b[0;32m     32\u001b[0m     \u001b[0msize_y\u001b[0m \u001b[1;33m=\u001b[0m \u001b[0mshape\u001b[0m\u001b[1;33m.\u001b[0m\u001b[0msize_y\u001b[0m\u001b[1;33m\u001b[0m\u001b[1;33m\u001b[0m\u001b[0m\n\u001b[1;32m---> 33\u001b[1;33m     \u001b[0mshape\u001b[0m\u001b[1;33m.\u001b[0m\u001b[0mresize\u001b[0m\u001b[1;33m(\u001b[0m\u001b[0msize_x\u001b[0m\u001b[1;33m*\u001b[0m\u001b[1;36m2\u001b[0m\u001b[1;33m,\u001b[0m \u001b[0msize_y\u001b[0m\u001b[1;33m*\u001b[0m\u001b[1;36m2\u001b[0m\u001b[1;33m)\u001b[0m\u001b[1;33m\u001b[0m\u001b[1;33m\u001b[0m\u001b[0m\n\u001b[0m\u001b[0;32m     34\u001b[0m \u001b[1;33m\u001b[0m\u001b[0m\n",
      "\u001b[1;31mTypeError\u001b[0m: resize() takes 2 positional arguments but 3 were given"
     ]
    }
   ],
   "source": [
    "class GraphicalEntity:\n",
    "    def __init__(self, pos_x, pos_y, size_x, size_y):\n",
    "        self.pos_x = pos_x\n",
    "        self.pos_y = pos_y\n",
    "        self.size_x = size_x\n",
    "        self.size_y = size_y\n",
    "\n",
    "    def move(self, pos_x, pos_y):\n",
    "        self.pos_x = pos_x\n",
    "        self.pos_y = pos_y\n",
    "\n",
    "    def resize(self, size_x, size_y):\n",
    "        self.size_x = size_x\n",
    "        self.size_y = size_y\n",
    "\n",
    "class Rectangle(GraphicalEntity):\n",
    "    pass\n",
    "\n",
    "class Square(GraphicalEntity):\n",
    "    def __init__(self, pos_x, pos_y, size):\n",
    "        super().__init__(pos_x, pos_y, size, size)\n",
    "\n",
    "    def resize(self, size):\n",
    "        super().resize(size, size)\n",
    "\n",
    "r1 = Rectangle(100, 200, 15, 30)\n",
    "r2 = Rectangle(150, 280, 23, 55)\n",
    "q1 = Square(300, 400, 50)\n",
    "\n",
    "for shape in [r1, r2, q1]:\n",
    "    size_x = shape.size_x\n",
    "    size_y = shape.size_y\n",
    "    shape.resize(size_x*2, size_y*2)\n",
    "\n"
   ]
  },
  {
   "cell_type": "code",
   "execution_count": 9,
   "metadata": {},
   "outputs": [
    {
     "name": "stdout",
     "output_type": "stream",
     "text": [
      "<__main__.SquareButton object at 0x0000017029AEA640>\n"
     ]
    }
   ],
   "source": [
    "class GraphicalEntity:\n",
    "    def __init__(self, pos_x, pos_y, size_x, size_y):\n",
    "        self.pos_x = pos_x\n",
    "        self.pos_y = pos_y\n",
    "        self.size_x = size_x\n",
    "        self.size_y = size_y\n",
    "\n",
    "\n",
    "class Button(GraphicalEntity):\n",
    "    def __init__(self, pos_x, pos_y, size_x, size_y):\n",
    "        super().__init__(pos_x, pos_y, size_x, size_y)\n",
    "        self.status = False\n",
    "\n",
    "    def toggle(self):\n",
    "        self.status = not self.status\n",
    "\n",
    "\n",
    "class SquareButton(Button):\n",
    "    def __init__(self, pos_x, pos_y, size):\n",
    "        super().__init__(pos_x, pos_y, size, size)\n",
    "\n",
    "b = SquareButton(10, 20, 200)\n"
   ]
  }
 ],
 "metadata": {
  "interpreter": {
   "hash": "1dbe5302cb3bb4c0fe4e492535fb181d3f49e6b02a7d389fb2104bcbd574eaf4"
  },
  "kernelspec": {
   "display_name": "Python 3.9.7 64-bit ('py39-nlp': conda)",
   "language": "python",
   "name": "python3"
  },
  "language_info": {
   "codemirror_mode": {
    "name": "ipython",
    "version": 3
   },
   "file_extension": ".py",
   "mimetype": "text/x-python",
   "name": "python",
   "nbconvert_exporter": "python",
   "pygments_lexer": "ipython3",
   "version": "3.9.7"
  },
  "orig_nbformat": 4
 },
 "nbformat": 4,
 "nbformat_minor": 2
}
