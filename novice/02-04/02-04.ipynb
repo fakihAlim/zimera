{
 "cells": [
  {
   "cell_type": "markdown",
   "metadata": {},
   "source": [
    "## Dependency Injection in Python\n",
    "#### Source: https://preslav.me/2018/12/20/dependency-injection-in-python/"
   ]
  },
  {
   "cell_type": "code",
   "execution_count": 2,
   "metadata": {},
   "outputs": [
    {
     "name": "stdout",
     "output_type": "stream",
     "text": [
      "Api called\n",
      "the api returned a result: 42\n",
      "None\n"
     ]
    }
   ],
   "source": [
    "class Api:\n",
    "    def fetch_remote_data(self):\n",
    "        print(\"Api called\")\n",
    "        return 42\n",
    "\n",
    "\n",
    "class BusinessLogic:\n",
    "    def __init__(self, api: Api):\n",
    "        self.api = api\n",
    "\n",
    "    def do_stuff(self):\n",
    "        api_result = self.api.fetch_remote_data()\n",
    "        print(f\"the api returned a result: {api_result}\")\n",
    "        # do something with the data and return a result\n",
    "\n",
    "\n",
    "# ---\n",
    "\n",
    "if __name__ == \"__main__\":\n",
    "    api = Api()\n",
    "    logic = BusinessLogic(api=api)\n",
    "\n",
    "    # ...\n",
    "    print(logic.do_stuff())"
   ]
  },
  {
   "cell_type": "code",
   "execution_count": 2,
   "metadata": {},
   "outputs": [
    {
     "ename": "ModuleNotFoundError",
     "evalue": "No module named 'Injector'",
     "output_type": "error",
     "traceback": [
      "\u001b[1;31m---------------------------------------------------------------------------\u001b[0m",
      "\u001b[1;31mModuleNotFoundError\u001b[0m                       Traceback (most recent call last)",
      "\u001b[1;32m~\\AppData\\Local\\Temp/ipykernel_11260/4159774474.py\u001b[0m in \u001b[0;36m<module>\u001b[1;34m\u001b[0m\n\u001b[1;32m----> 1\u001b[1;33m \u001b[1;32mimport\u001b[0m \u001b[0mInjector\u001b[0m\u001b[1;33m\u001b[0m\u001b[1;33m\u001b[0m\u001b[0m\n\u001b[0m\u001b[0;32m      2\u001b[0m \u001b[1;33m\u001b[0m\u001b[0m\n\u001b[0;32m      3\u001b[0m \u001b[1;32mclass\u001b[0m \u001b[0mAppModule\u001b[0m\u001b[1;33m(\u001b[0m\u001b[0mModule\u001b[0m\u001b[1;33m)\u001b[0m\u001b[1;33m:\u001b[0m\u001b[1;33m\u001b[0m\u001b[1;33m\u001b[0m\u001b[0m\n\u001b[0;32m      4\u001b[0m \u001b[1;33m\u001b[0m\u001b[0m\n\u001b[0;32m      5\u001b[0m     \u001b[1;33m@\u001b[0m\u001b[0msingleton\u001b[0m\u001b[1;33m\u001b[0m\u001b[1;33m\u001b[0m\u001b[0m\n",
      "\u001b[1;31mModuleNotFoundError\u001b[0m: No module named 'Injector'"
     ]
    }
   ],
   "source": [
    "import Injector\n",
    "\n",
    "\n",
    "class AppModule(Module):\n",
    "    @singleton\n",
    "    @provider\n",
    "    def provide_business_logic(self, api: Api) -> BusinessLogic:\n",
    "        return BusinessLogic(api=api)\n",
    "\n",
    "    @singleton\n",
    "    @provider\n",
    "    def provide_api(self) -> Api:\n",
    "        # there is no complex logic in our case,\n",
    "        # but you can use this method to hide the complexity of initial configuration\n",
    "        # e.g. when instantiating a particular DB connector.\n",
    "        return Api()\n",
    "\n",
    "\n",
    "if __name__ == \"__main__\":\n",
    "    injector = Injector(AppModule())\n",
    "\n",
    "    logic = injector.get(BusinessLogic)\n",
    "    logic.do_stuff()"
   ]
  }
 ],
 "metadata": {
  "interpreter": {
   "hash": "1dbe5302cb3bb4c0fe4e492535fb181d3f49e6b02a7d389fb2104bcbd574eaf4"
  },
  "kernelspec": {
   "display_name": "Python 3.9.7 64-bit ('py39-nlp': conda)",
   "language": "python",
   "name": "python3"
  },
  "language_info": {
   "codemirror_mode": {
    "name": "ipython",
    "version": 3
   },
   "file_extension": ".py",
   "mimetype": "text/x-python",
   "name": "python",
   "nbconvert_exporter": "python",
   "pygments_lexer": "ipython3",
   "version": "3.9.7"
  },
  "orig_nbformat": 4
 },
 "nbformat": 4,
 "nbformat_minor": 2
}
