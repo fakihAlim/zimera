{
 "cells": [
  {
   "cell_type": "code",
   "execution_count": 49,
   "metadata": {},
   "outputs": [
    {
     "name": "stdout",
     "output_type": "stream",
     "text": [
      "Pesawat garuda dengan \n",
      "        kode 001 dan tipe boing yang telah berumur 10 tahun\n",
      "        akan membawa 120 penumpang \n",
      "Nama Pilot: yodi\n",
      "jam Terbang:  500\n",
      "Status: Pilot Handal\n"
     ]
    }
   ],
   "source": [
    "class PesawatGaruda:\n",
    "    def __init__(self):\n",
    "        self.kodePesawat = ''\n",
    "        self.tipePesawat = ''\n",
    "        self.jumlahSeat = ''\n",
    "        self.umurPesawat = ''\n",
    "    \n",
    "    def getPesawat(self):\n",
    "        return self.kodePesawat,self.tipePesawat,self.jumlahSeat,self.umurPesawat\n",
    "\n",
    "    def setPesawat(self,KodePesawat,TipePesawat,JumlahSeat,UmurPesawat):\n",
    "        self.kodePesawat = KodePesawat\n",
    "        self.tipePesawat = TipePesawat\n",
    "        self.jumlahSeat = JumlahSeat\n",
    "        self.umurPesawat = UmurPesawat\n",
    "    \n",
    "    def tampilkanDataPesawat(self):\n",
    "        print('''Pesawat garuda dengan \n",
    "        kode {} dan tipe {} yang telah berumur {} tahun\n",
    "        akan membawa {} penumpang '''.format(self.kodePesawat,self.tipePesawat,self.umurPesawat,self.jumlahSeat))\n",
    "\n",
    "class pilot:\n",
    "    def __init__(self):\n",
    "        self.status = 0\n",
    "\n",
    "    def setPilot(self,nama,jamterbang):\n",
    "        self.nama = nama\n",
    "        self.jamterbang = jamterbang\n",
    "        if self.jamterbang > 100:\n",
    "            self.status = 1\n",
    "        else:\n",
    "            self.status = 0\n",
    "\n",
    "    def getPilot(self):\n",
    "        print(\"Nama Pilot:\",self.nama)\n",
    "        print(\"jam Terbang: \",self.jamterbang)\n",
    "        self.statusPilot()\n",
    "    \n",
    "    def statusPilot(self):\n",
    "        if self.status == 0:\n",
    "            print(\"Status: Tidak Layak Terbang\")\n",
    "        else:\n",
    "            print(\"Status: Pilot Handal\")\n",
    "        \n",
    "   \n",
    "p = PesawatGaruda()\n",
    "p.kodePesawat = '001'\n",
    "p.jumlahSeat = '120'\n",
    "p.tipePesawat = 'boing'\n",
    "p.umurPesawat = '10'\n",
    "p.tampilkanDataPesawat()\n",
    "\n",
    "pi = pilot()\n",
    "pi.setPilot(\"yodi\",500)\n",
    "pi.getPilot()"
   ]
  }
 ],
 "metadata": {
  "interpreter": {
   "hash": "1dbe5302cb3bb4c0fe4e492535fb181d3f49e6b02a7d389fb2104bcbd574eaf4"
  },
  "kernelspec": {
   "display_name": "Python 3.9.7 64-bit ('py39-nlp': conda)",
   "language": "python",
   "name": "python3"
  },
  "language_info": {
   "codemirror_mode": {
    "name": "ipython",
    "version": 3
   },
   "file_extension": ".py",
   "mimetype": "text/x-python",
   "name": "python",
   "nbconvert_exporter": "python",
   "pygments_lexer": "ipython3",
   "version": "3.9.7"
  },
  "orig_nbformat": 4
 },
 "nbformat": 4,
 "nbformat_minor": 2
}
