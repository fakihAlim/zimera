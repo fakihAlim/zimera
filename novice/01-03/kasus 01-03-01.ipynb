{
 "cells": [
  {
   "cell_type": "code",
   "execution_count": 2,
   "metadata": {},
   "outputs": [],
   "source": [
    "class PesawatGaruda:\n",
    "    def __init__(self,KodePesawat,TipePesawat,JumlahSeat,UmurPesawat):\n",
    "        self.kodePesawat = KodePesawat\n",
    "        self.tipePesawat = TipePesawat\n",
    "        self.jumlahSeat = JumlahSeat\n",
    "        self.umurPesawat = UmurPesawat\n",
    "    \n",
    "    def tampilkanDataPesawat(self):\n",
    "        print('''Pesawat garuda dengan \n",
    "                 kode {} dan tipe {} yang telah berumur {} tahun\n",
    "                 akan membawa {} penumpang '''.format(self.kodePesawat,self.tipePesawat,self.umurPesawat,self.jumlahSeat))\n",
    "\n",
    "p = PesawatGaruda('001','boing','10','100')"
   ]
  }
 ],
 "metadata": {
  "interpreter": {
   "hash": "1dbe5302cb3bb4c0fe4e492535fb181d3f49e6b02a7d389fb2104bcbd574eaf4"
  },
  "kernelspec": {
   "display_name": "Python 3.9.7 64-bit ('py39-nlp': conda)",
   "language": "python",
   "name": "python3"
  },
  "language_info": {
   "codemirror_mode": {
    "name": "ipython",
    "version": 3
   },
   "file_extension": ".py",
   "mimetype": "text/x-python",
   "name": "python",
   "nbconvert_exporter": "python",
   "pygments_lexer": "ipython3",
   "version": "3.9.7"
  },
  "orig_nbformat": 4
 },
 "nbformat": 4,
 "nbformat_minor": 2
}
