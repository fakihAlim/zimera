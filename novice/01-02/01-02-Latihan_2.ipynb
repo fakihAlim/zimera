{
 "cells": [
  {
   "cell_type": "markdown",
   "metadata": {},
   "source": [
    "## Module\n",
    "Source: https://python.swaroopch.com/modules.html"
   ]
  },
  {
   "cell_type": "code",
   "execution_count": 1,
   "metadata": {},
   "outputs": [
    {
     "name": "stdout",
     "output_type": "stream",
     "text": [
      "The command line arguments are:\n",
      "C:\\Users\\DeLL\\anaconda3\\envs\\py39-nlp\\lib\\site-packages\\ipykernel_launcher.py\n",
      "--ip=127.0.0.1\n",
      "--stdin=9018\n",
      "--control=9016\n",
      "--hb=9015\n",
      "--Session.signature_scheme=\"hmac-sha256\"\n",
      "--Session.key=b\"ec838010-cfc0-471c-ab85-ae89bb3bf935\"\n",
      "--shell=9017\n",
      "--transport=\"tcp\"\n",
      "--iopub=9019\n",
      "--f=C:\\Users\\DeLL\\AppData\\Local\\Temp\\tmp-7372xjnn1Ja0pLqv.json\n",
      "\n",
      "\n",
      "The PYTHONPATH is ['c:\\\\Users\\\\DeLL\\\\Documents\\\\GitHub\\\\zimera\\\\novice\\\\01-02', 'c:\\\\Users\\\\DeLL\\\\.vscode\\\\extensions\\\\ms-toolsai.jupyter-2021.11.1001550889\\\\pythonFiles', 'c:\\\\Users\\\\DeLL\\\\.vscode\\\\extensions\\\\ms-toolsai.jupyter-2021.11.1001550889\\\\pythonFiles\\\\lib\\\\python', 'C:\\\\Users\\\\DeLL\\\\anaconda3\\\\envs\\\\py39-nlp\\\\python39.zip', 'C:\\\\Users\\\\DeLL\\\\anaconda3\\\\envs\\\\py39-nlp\\\\DLLs', 'C:\\\\Users\\\\DeLL\\\\anaconda3\\\\envs\\\\py39-nlp\\\\lib', 'C:\\\\Users\\\\DeLL\\\\anaconda3\\\\envs\\\\py39-nlp', '', 'C:\\\\Users\\\\DeLL\\\\anaconda3\\\\envs\\\\py39-nlp\\\\lib\\\\site-packages', 'C:\\\\Users\\\\DeLL\\\\anaconda3\\\\envs\\\\py39-nlp\\\\lib\\\\site-packages\\\\win32', 'C:\\\\Users\\\\DeLL\\\\anaconda3\\\\envs\\\\py39-nlp\\\\lib\\\\site-packages\\\\win32\\\\lib', 'C:\\\\Users\\\\DeLL\\\\anaconda3\\\\envs\\\\py39-nlp\\\\lib\\\\site-packages\\\\Pythonwin', 'C:\\\\Users\\\\DeLL\\\\anaconda3\\\\envs\\\\py39-nlp\\\\lib\\\\site-packages\\\\IPython\\\\extensions', 'C:\\\\Users\\\\DeLL\\\\.ipython'] \n",
      "\n"
     ]
    }
   ],
   "source": [
    "import sys\n",
    "\n",
    "print(\"The command line arguments are:\")\n",
    "for i in sys.argv:\n",
    "    print(i)\n",
    "\n",
    "print(\"\\n\\nThe PYTHONPATH is\", sys.path, \"\\n\")"
   ]
  },
  {
   "cell_type": "markdown",
   "metadata": {},
   "source": [
    "### A module's __name__"
   ]
  },
  {
   "cell_type": "code",
   "execution_count": 2,
   "metadata": {},
   "outputs": [
    {
     "name": "stdout",
     "output_type": "stream",
     "text": [
      "This program is being run by itself\n"
     ]
    }
   ],
   "source": [
    "if __name__ == \"__main__\":\n",
    "    print(\"This program is being run by itself\")\n",
    "else:\n",
    "    print(\"I am being imported from another module\")"
   ]
  },
  {
   "cell_type": "code",
   "execution_count": 4,
   "metadata": {},
   "outputs": [
    {
     "name": "stdout",
     "output_type": "stream",
     "text": [
      "Hi, this is mymodule speaking.\n",
      "Version 0.1\n"
     ]
    }
   ],
   "source": [
    "import swaroopch.mymodule as mm\n",
    "\n",
    "mm.say_hi()\n",
    "print(\"Version\", mm.__version__)"
   ]
  }
 ],
 "metadata": {
  "interpreter": {
   "hash": "1dbe5302cb3bb4c0fe4e492535fb181d3f49e6b02a7d389fb2104bcbd574eaf4"
  },
  "kernelspec": {
   "display_name": "Python 3.9.7 64-bit ('py39-nlp': conda)",
   "language": "python",
   "name": "python3"
  },
  "language_info": {
   "codemirror_mode": {
    "name": "ipython",
    "version": 3
   },
   "file_extension": ".py",
   "mimetype": "text/x-python",
   "name": "python",
   "nbconvert_exporter": "python",
   "pygments_lexer": "ipython3",
   "version": "3.9.7"
  },
  "orig_nbformat": 4
 },
 "nbformat": 4,
 "nbformat_minor": 2
}
