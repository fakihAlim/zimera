{
 "cells": [
  {
   "cell_type": "markdown",
   "metadata": {},
   "source": [
    "## Data Structures\n",
    "### List"
   ]
  },
  {
   "cell_type": "code",
   "execution_count": 20,
   "metadata": {},
   "outputs": [
    {
     "name": "stdout",
     "output_type": "stream",
     "text": [
      "I have 4 items to purchase.\n",
      "These items are: apple mango carrot banana \n",
      "I also have to buy rice.\n",
      "My shopping list is now ['apple', 'mango', 'carrot', 'banana', 'rice']\n",
      "I will sort my list now\n",
      "Sorted shopping list is ['apple', 'banana', 'carrot', 'mango', 'rice']\n",
      "The first item I will buy is apple\n",
      "I bought the apple\n",
      "My shopping list is now ['banana', 'carrot', 'mango', 'rice']\n"
     ]
    }
   ],
   "source": [
    "# This is my shopping list\n",
    "shoplist = ['apple', 'mango', 'carrot', 'banana']\n",
    "\n",
    "print('I have', len(shoplist), 'items to purchase.')\n",
    "\n",
    "print('These items are:', end=' ')\n",
    "for item in shoplist:\n",
    "    print(item, end=' ')\n",
    "\n",
    "print('\\nI also have to buy rice.')\n",
    "shoplist.append('rice')\n",
    "print('My shopping list is now', shoplist)\n",
    "\n",
    "print('I will sort my list now')\n",
    "shoplist.sort()\n",
    "print('Sorted shopping list is', shoplist)\n",
    "\n",
    "print('The first item I will buy is', shoplist[0])\n",
    "olditem = shoplist[0]\n",
    "del shoplist[0]\n",
    "print('I bought the', olditem)\n",
    "print('My shopping list is now', shoplist)"
   ]
  },
  {
   "cell_type": "markdown",
   "metadata": {},
   "source": [
    "## Tuple\n"
   ]
  },
  {
   "cell_type": "code",
   "execution_count": 1,
   "metadata": {},
   "outputs": [
    {
     "name": "stdout",
     "output_type": "stream",
     "text": [
      "Number of animals in the zoo is 3\n",
      "Number of cages in the new zoo is 3\n",
      "All animals in new zoo are ('monkey', 'camel', ('python', 'elephant', 'penguin'))\n",
      "Animals brought from old zoo are ('python', 'elephant', 'penguin')\n",
      "Last animal brought from old zoo is penguin\n",
      "Number of animals in the new zoo is 5\n"
     ]
    }
   ],
   "source": [
    "# I would recommend always using parentheses\n",
    "# to indicate start and end of tuple\n",
    "# even though parentheses are optional.\n",
    "# Explicit is better than implicit.\n",
    "zoo = ('python', 'elephant', 'penguin')\n",
    "print('Number of animals in the zoo is', len(zoo))\n",
    "\n",
    "new_zoo = 'monkey', 'camel', zoo    # parentheses not required but are a good idea\n",
    "print('Number of cages in the new zoo is', len(new_zoo))\n",
    "print('All animals in new zoo are', new_zoo)\n",
    "print('Animals brought from old zoo are', new_zoo[2])\n",
    "print('Last animal brought from old zoo is', new_zoo[2][2])\n",
    "print('Number of animals in the new zoo is',\n",
    "      len(new_zoo)-1+len(new_zoo[2]))"
   ]
  },
  {
   "cell_type": "markdown",
   "metadata": {},
   "source": [
    "## Dictionary\n"
   ]
  },
  {
   "cell_type": "code",
   "execution_count": 2,
   "metadata": {},
   "outputs": [
    {
     "name": "stdout",
     "output_type": "stream",
     "text": [
      "Swaroop's address is swaroop@swaroopch.com\n",
      "\n",
      "There are 3 contacts in the address-book\n",
      "\n",
      "Contact Swaroop at swaroop@swaroopch.com\n",
      "Contact Larry at larry@wall.org\n",
      "Contact Matsumoto at matz@ruby-lang.org\n",
      "\n",
      "Guido's address is guido@python.org\n"
     ]
    }
   ],
   "source": [
    "# 'ab' is short for 'a'ddress'b'ook\n",
    "\n",
    "ab = {\n",
    "    'Swaroop': 'swaroop@swaroopch.com',\n",
    "    'Larry': 'larry@wall.org',\n",
    "    'Matsumoto': 'matz@ruby-lang.org',\n",
    "    'Spammer': 'spammer@hotmail.com'\n",
    "}\n",
    "\n",
    "print(\"Swaroop's address is\", ab['Swaroop'])\n",
    "\n",
    "# Deleting a key-value pair\n",
    "del ab['Spammer']\n",
    "\n",
    "print('\\nThere are {} contacts in the address-book\\n'.format(len(ab)))\n",
    "\n",
    "for name, address in ab.items():\n",
    "    print('Contact {} at {}'.format(name, address))\n",
    "\n",
    "# Adding a key-value pair\n",
    "ab['Guido'] = 'guido@python.org'\n",
    "\n",
    "if 'Guido' in ab:\n",
    "    print(\"\\nGuido's address is\", ab['Guido'])"
   ]
  },
  {
   "cell_type": "markdown",
   "metadata": {},
   "source": [
    "## Sequence"
   ]
  },
  {
   "cell_type": "code",
   "execution_count": 3,
   "metadata": {},
   "outputs": [
    {
     "name": "stdout",
     "output_type": "stream",
     "text": [
      "Item 0 is apple\n",
      "Item 1 is mango\n",
      "Item 2 is carrot\n",
      "Item 3 is banana\n",
      "Item -1 is banana\n",
      "Item -2 is carrot\n",
      "Character 0 is s\n",
      "Item 1 to 3 is ['mango', 'carrot']\n",
      "Item 2 to end is ['carrot', 'banana']\n",
      "Item 1 to -1 is ['mango', 'carrot']\n",
      "Item start to end is ['apple', 'mango', 'carrot', 'banana']\n",
      "characters 1 to 3 is wa\n",
      "characters 2 to end is aroop\n",
      "characters 1 to -1 is waroo\n",
      "characters start to end is swaroop\n"
     ]
    }
   ],
   "source": [
    "shoplist = ['apple', 'mango', 'carrot', 'banana']\n",
    "name = 'swaroop'\n",
    "\n",
    "# Indexing or 'Subscription' operation #\n",
    "print('Item 0 is', shoplist[0])\n",
    "print('Item 1 is', shoplist[1])\n",
    "print('Item 2 is', shoplist[2])\n",
    "print('Item 3 is', shoplist[3])\n",
    "print('Item -1 is', shoplist[-1])\n",
    "print('Item -2 is', shoplist[-2])\n",
    "print('Character 0 is', name[0])\n",
    "\n",
    "# Slicing on a list #\n",
    "print('Item 1 to 3 is', shoplist[1:3])\n",
    "print('Item 2 to end is', shoplist[2:])\n",
    "print('Item 1 to -1 is', shoplist[1:-1])\n",
    "print('Item start to end is', shoplist[:])\n",
    "\n",
    "# Slicing on a string #\n",
    "print('characters 1 to 3 is', name[1:3])\n",
    "print('characters 2 to end is', name[2:])\n",
    "print('characters 1 to -1 is', name[1:-1])\n",
    "print('characters start to end is', name[:])"
   ]
  },
  {
   "cell_type": "markdown",
   "metadata": {},
   "source": [
    "## Set"
   ]
  },
  {
   "cell_type": "code",
   "execution_count": 4,
   "metadata": {},
   "outputs": [
    {
     "data": {
      "text/plain": [
       "{'brazil', 'india'}"
      ]
     },
     "execution_count": 4,
     "metadata": {},
     "output_type": "execute_result"
    }
   ],
   "source": [
    " bri = set(['brazil', 'russia', 'india'])\n",
    " 'india' in bri\n",
    " 'usa' in bri\n",
    " bric = bri.copy()\n",
    " bric.add('china')\n",
    " bric.issuperset(bri)\n",
    " bri.remove('russia')\n",
    " bri & bric # OR bri.intersection(bric)\n",
    "{'brazil', 'india'}"
   ]
  },
  {
   "cell_type": "code",
   "execution_count": 5,
   "metadata": {},
   "outputs": [
    {
     "name": "stdout",
     "output_type": "stream",
     "text": [
      "['c', 'o', 'o', 'l']\n"
     ]
    }
   ],
   "source": [
    "a = ['yodi','keren','sekali']\n",
    "a[len(a):] = 'rich'\n",
    "\n",
    "a[:len(a)] = 'cool'\n",
    "\n",
    "print(a)"
   ]
  },
  {
   "cell_type": "code",
   "execution_count": 19,
   "metadata": {},
   "outputs": [
    {
     "name": "stdout",
     "output_type": "stream",
     "text": [
      "['c', 'l', 'o', 'o']\n",
      "['yodi', 'keren']\n",
      "['baju', 'c', 'h', 'i', 'keren', 'r', 'yodi']\n"
     ]
    }
   ],
   "source": [
    "a.sort()\n",
    "print(a)\n",
    "b= ['yodi','keren']\n",
    "print(b)\n",
    "b.append('baju')\n",
    "b[len(b):] = 'rich'\n",
    "b.sort()\n",
    "print(b)"
   ]
  },
  {
   "cell_type": "code",
   "execution_count": 21,
   "metadata": {},
   "outputs": [
    {
     "name": "stdout",
     "output_type": "stream",
     "text": [
      "This program is being run by itself\n"
     ]
    }
   ],
   "source": [
    "if __name__ == '__main__':\n",
    "    print('This program is being run by itself')\n",
    "else:\n",
    "    print('I am being imported from another module')"
   ]
  },
  {
   "cell_type": "code",
   "execution_count": 22,
   "metadata": {},
   "outputs": [
    {
     "name": "stdout",
     "output_type": "stream",
     "text": [
      "The value of x is 32.5, and y is 40000...\n",
      "'hello, world\\n'\n"
     ]
    },
    {
     "data": {
      "text/plain": [
       "\"(32.5, 40000, ('spam', 'eggs'))\""
      ]
     },
     "execution_count": 22,
     "metadata": {},
     "output_type": "execute_result"
    }
   ],
   "source": [
    "s = 'Hello, Duniaaaaaaaakuuu.'\n",
    "str(s)\n",
    "\n",
    "repr(s)\n",
    "\n",
    "str(1/7)\n",
    "\n",
    "x = 10 * 3.25\n",
    "y = 200 * 200\n",
    "s = 'The value of x is ' + repr(x) + ', and y is ' + repr(y) + '...'\n",
    "print(s)\n",
    "\n",
    "# The repr() of a string adds string quotes and backslashes:\n",
    "hello = 'hello, world\\n'\n",
    "hellos = repr(hello)\n",
    "print(hellos)\n",
    "\n",
    "# The argument to repr() may be any Python object:\n",
    "repr((x, y, ('spam', 'eggs')))"
   ]
  },
  {
   "cell_type": "code",
   "execution_count": 34,
   "metadata": {},
   "outputs": [],
   "source": [
    "def say_hi():\n",
    "    print('Hi, this is mymodule speaking.')\n",
    "\n",
    "__version__ = '0.1'\n"
   ]
  },
  {
   "cell_type": "code",
   "execution_count": 12,
   "metadata": {},
   "outputs": [
    {
     "name": "stdout",
     "output_type": "stream",
     "text": [
      "0 1 1 2 3 5 8 13 21 34 55 89 \n"
     ]
    }
   ],
   "source": [
    "import Tutorial.fibo as fibo\n",
    "\n",
    "fibo.fib(100)\n"
   ]
  }
 ],
 "metadata": {
  "interpreter": {
   "hash": "d57a33b173e6e8b054d5bacb963f10831bf6550955d8c45e2a8d5b6577d15b7a"
  },
  "kernelspec": {
   "display_name": "Python 3.8.8 64-bit ('base': conda)",
   "language": "python",
   "name": "python3"
  },
  "language_info": {
   "codemirror_mode": {
    "name": "ipython",
    "version": 3
   },
   "file_extension": ".py",
   "mimetype": "text/x-python",
   "name": "python",
   "nbconvert_exporter": "python",
   "pygments_lexer": "ipython3",
   "version": "3.9.7"
  },
  "orig_nbformat": 4
 },
 "nbformat": 4,
 "nbformat_minor": 2
}
