{
 "cells": [
  {
   "cell_type": "markdown",
   "metadata": {},
   "source": [
    "##### Buatlah 5 function untuk algoritma sorting yang sudah anda buat. Buatlah 5 function tersebut menjadi module dan tunjukkan juga cara menggunakan module tersebut."
   ]
  },
  {
   "cell_type": "code",
   "execution_count": 7,
   "metadata": {},
   "outputs": [
    {
     "name": "stdout",
     "output_type": "stream",
     "text": [
      "Bubble Sort: [12, 18, 21, 23, 34, 40, 45, 58, 77, 100]\n",
      "Insertion Sort: [12, 18, 21, 23, 34, 40, 45, 58, 77, 100]\n",
      "Selection Sort: [12, 21, 34, 40, 58, 45, 23, 18, 100, 77]\n",
      "Merge Sort: [12, 18, 21, 23, 34, 40, 45, 58, 77, 100]\n"
     ]
    }
   ],
   "source": [
    "import modul.bubble as b\n",
    "import modul.insertion as i\n",
    "import modul.Selection as s\n",
    "import modul.merge as m\n",
    "\n",
    "data_belum_urut_01 = [12,58,40,21,34,45,23,18,100,77]\n",
    "b.sort(data_belum_urut_01)\n",
    "print(\"Bubble Sort:\",data_belum_urut_01)\n",
    "\n",
    "data_belum_urut_02 = [12,58,40,21,34,45,23,18,100,77]\n",
    "i.insertion_sort(data_belum_urut_02)\n",
    "print(\"Insertion Sort:\",data_belum_urut_02)\n",
    "\n",
    "data_belum_urut_03 = [12,58,40,21,34,45,23,18,100,77]\n",
    "s.sort(data_belum_urut_03)\n",
    "print(\"Selection Sort:\",data_belum_urut_03)\n",
    "\n",
    "data_belum_urut_04 = [12,58,40,21,34,45,23,18,100,77]\n",
    "print(\"Merge Sort:\",m.merge_sort(data_belum_urut_04))\n",
    "\n"
   ]
  },
  {
   "cell_type": "code",
   "execution_count": 9,
   "metadata": {},
   "outputs": [
    {
     "name": "stdout",
     "output_type": "stream",
     "text": [
      "[29, 30, 32, 33, 64, 86]\n"
     ]
    }
   ],
   "source": [
    "from sorting_techniques import pysort\n",
    "s_obj = pysort.Sorting()\n",
    "my_list = [64,86,33,32,29,30]\n",
    "l_sort = s_obj.selectionSort(my_list)\n",
    "print(l_sort)"
   ]
  }
 ],
 "metadata": {
  "interpreter": {
   "hash": "1dbe5302cb3bb4c0fe4e492535fb181d3f49e6b02a7d389fb2104bcbd574eaf4"
  },
  "kernelspec": {
   "display_name": "Python 3.9.7 64-bit ('py39-nlp': conda)",
   "language": "python",
   "name": "python3"
  },
  "language_info": {
   "codemirror_mode": {
    "name": "ipython",
    "version": 3
   },
   "file_extension": ".py",
   "mimetype": "text/x-python",
   "name": "python",
   "nbconvert_exporter": "python",
   "pygments_lexer": "ipython3",
   "version": "3.9.7"
  },
  "orig_nbformat": 4
 },
 "nbformat": 4,
 "nbformat_minor": 2
}
