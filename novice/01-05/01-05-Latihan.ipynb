{
 "cells": [
  {
   "cell_type": "markdown",
   "metadata": {},
   "source": [
    "# Object Serializtion python pickle\n",
    "source: https://thepythoncorner.com/posts/2016-12-6-object-serialization-python-pickle/"
   ]
  },
  {
   "cell_type": "markdown",
   "metadata": {},
   "source": [
    "Pickling is the name of the serialization process in Python. By pickling, we can convert an object hierarchy to a binary format (usually not human readable) that can be stored. To pickle an object we just need to import the pickle module and call the dumps() function passing the object to be pickled as a parameter."
   ]
  },
  {
   "cell_type": "markdown",
   "metadata": {},
   "source": [
    "## Pickling"
   ]
  },
  {
   "cell_type": "code",
   "execution_count": 7,
   "metadata": {},
   "outputs": [
    {
     "name": "stdout",
     "output_type": "stream",
     "text": [
      "My sheep mary is white and has 4 paws\n",
      "Would you like to see her pickled? Here she is!\n",
      "b'\\x80\\x04\\x95A\\x00\\x00\\x00\\x00\\x00\\x00\\x00\\x8c\\x08__main__\\x94\\x8c\\x05Sheep\\x94\\x93\\x94)\\x81\\x94}\\x94(\\x8c\\x0enumber_of_paws\\x94K\\x04\\x8c\\x05color\\x94\\x8c\\x05white\\x94ub.'\n"
     ]
    }
   ],
   "source": [
    "import pickle\n",
    "\n",
    "\n",
    "class Animal:\n",
    "    def __init__(self, number_of_paws, color):\n",
    "        self.number_of_paws = number_of_paws\n",
    "        self.color = color\n",
    "\n",
    "\n",
    "class Sheep(Animal):\n",
    "    def __init__(self, color):\n",
    "        Animal.__init__(self, 4, color)\n",
    "\n",
    "\n",
    "mary = Sheep(\"white\")\n",
    "print(\n",
    "    str.format(\"My sheep mary is {0} and has {1} paws\", mary.color, mary.number_of_paws)\n",
    ")\n",
    "my_pickled_mary = pickle.dumps(mary)\n",
    "\n",
    "print(\"Would you like to see her pickled? Here she is!\")\n",
    "print(my_pickled_mary)"
   ]
  },
  {
   "cell_type": "markdown",
   "metadata": {},
   "source": [
    "if you want to create a file with a pickled object, you can use the dump() method (instead of the dumps() one) passing also an opened binary file and the pickling result will be stored in the file automatically"
   ]
  },
  {
   "cell_type": "code",
   "execution_count": 8,
   "metadata": {},
   "outputs": [
    {
     "name": "stdout",
     "output_type": "stream",
     "text": [
      "My sheep mary is white and has 4 paws\n"
     ]
    }
   ],
   "source": [
    "import pickle\n",
    "\n",
    "\n",
    "class Animal:\n",
    "    def __init__(self, number_of_paws, color):\n",
    "        self.number_of_paws = number_of_paws\n",
    "        self.color = color\n",
    "\n",
    "\n",
    "class Sheep(Animal):\n",
    "    def __init__(self, color):\n",
    "        Animal.__init__(self, 4, color)\n",
    "\n",
    "\n",
    "mary = Sheep(\"white\")\n",
    "print(\n",
    "    str.format(\"My sheep mary is {0} and has {1} paws\", mary.color, mary.number_of_paws)\n",
    ")\n",
    "my_pickled_mary = pickle.dumps(mary)\n",
    "binary_file = open(\"my_pickled_mary.bin\", mode=\"wb\")\n",
    "my_pickled_mary = pickle.dump(mary, binary_file)\n",
    "binary_file.close()"
   ]
  },
  {
   "cell_type": "markdown",
   "metadata": {},
   "source": [
    "## Unpickling"
   ]
  },
  {
   "cell_type": "markdown",
   "metadata": {},
   "source": [
    "The unpickling process is done by using the load() function of the pickle module and returns a complete object hierarchy from a simple bytes array"
   ]
  },
  {
   "cell_type": "code",
   "execution_count": 11,
   "metadata": {},
   "outputs": [
    {
     "name": "stdout",
     "output_type": "stream",
     "text": [
      "Dolly is black \n",
      "Mary is white \n"
     ]
    }
   ],
   "source": [
    "import pickle\n",
    "\n",
    "\n",
    "class Animal:\n",
    "    def __init__(self, number_of_paws, color):\n",
    "        self.number_of_paws = number_of_paws\n",
    "        self.color = color\n",
    "\n",
    "\n",
    "class Sheep(Animal):\n",
    "    def __init__(self, color):\n",
    "        Animal.__init__(self, 4, color)\n",
    "\n",
    "\n",
    "# Step 1: Let's create the sheep Mary\n",
    "mary = Sheep(\"white\")\n",
    "\n",
    "# Step 2: Let's pickle Mary\n",
    "my_pickled_mary = pickle.dumps(mary)\n",
    "dolly = pickle.loads(my_pickled_mary)\n",
    "# Dolly and Mary are two different objects, in fact if we specify another color for dolly\n",
    "# there are no conseguencies for Mary\n",
    "dolly.color = \"black\"\n",
    "print(str.format(\"Dolly is {0} \", dolly.color))\n",
    "print(str.format(\"Mary is {0} \", mary.color))"
   ]
  },
  {
   "cell_type": "markdown",
   "metadata": {},
   "source": [
    "## Some notes about pickling"
   ]
  },
  {
   "cell_type": "markdown",
   "metadata": {},
   "source": [
    "Protocol version 0 is the original “human-readable” protocol and is backwards compatible with earlier versions of Python. Protocol version 1 is an old binary format which is also compatible with earlier versions of Python. Protocol version 2 was introduced in Python 2.3. It provides much more efficient pickling of new-style classes. Refer to PEP 307 for information about improvements brought by protocol 2. Protocol version 3 was added in Python 3.0. It has explicit support for bytes objects and cannot be unpickled by Python 2.x. This is the default protocol, and the recommended protocol when compatibility with other Python 3 versions is required. Protocol version 4 was added in Python 3.4. It adds support for very large objects, pickling more kinds of objects, and some data format optimizations. Refer to PEP 3154 for information about improvements brought by protocol 4."
   ]
  },
  {
   "cell_type": "code",
   "execution_count": 12,
   "metadata": {},
   "outputs": [
    {
     "ename": "UnpicklingError",
     "evalue": "could not find MARK",
     "output_type": "error",
     "traceback": [
      "\u001b[1;31m---------------------------------------------------------------------------\u001b[0m",
      "\u001b[1;31mUnpicklingError\u001b[0m                           Traceback (most recent call last)",
      "\u001b[1;32m~\\AppData\\Local\\Temp/ipykernel_7572/3934496483.py\u001b[0m in \u001b[0;36m<module>\u001b[1;34m\u001b[0m\n\u001b[0;32m      2\u001b[0m \u001b[0mmy_custom_pickle\u001b[0m \u001b[1;33m=\u001b[0m \u001b[0mbytes\u001b[0m\u001b[1;33m(\u001b[0m\u001b[1;34m\"this is unpicklable\"\u001b[0m\u001b[1;33m,\u001b[0m \u001b[0mencoding\u001b[0m\u001b[1;33m=\u001b[0m\u001b[1;34m\"UTF-8\"\u001b[0m\u001b[1;33m)\u001b[0m\u001b[1;33m\u001b[0m\u001b[1;33m\u001b[0m\u001b[0m\n\u001b[0;32m      3\u001b[0m \u001b[1;31m# this next statement will raise a _pickle.UnpicklingError\u001b[0m\u001b[1;33m\u001b[0m\u001b[1;33m\u001b[0m\u001b[0m\n\u001b[1;32m----> 4\u001b[1;33m \u001b[0mmy_new_object\u001b[0m \u001b[1;33m=\u001b[0m \u001b[0mpickle\u001b[0m\u001b[1;33m.\u001b[0m\u001b[0mloads\u001b[0m\u001b[1;33m(\u001b[0m\u001b[0mmy_custom_pickle\u001b[0m\u001b[1;33m)\u001b[0m\u001b[1;33m\u001b[0m\u001b[1;33m\u001b[0m\u001b[0m\n\u001b[0m",
      "\u001b[1;31mUnpicklingError\u001b[0m: could not find MARK"
     ]
    }
   ],
   "source": [
    "import pickle\n",
    "\n",
    "my_custom_pickle = bytes(\"this is unpicklable\", encoding=\"UTF-8\")\n",
    "# this next statement will raise a _pickle.UnpicklingError\n",
    "my_new_object = pickle.loads(my_custom_pickle)"
   ]
  },
  {
   "cell_type": "markdown",
   "metadata": {},
   "source": [
    "The problem when you have unpicklable object in the hierarchy of the object you want to pickle is that this prevents you to serialize (and store) the entire object. Fortunately, Python offers you two convenient methods to specify what you want to pickle and how to re-initialize (during the unpickling process) the objects that you haven’t pickled before. These methods are setstate() and getstate()"
   ]
  },
  {
   "cell_type": "code",
   "execution_count": 16,
   "metadata": {},
   "outputs": [
    {
     "name": "stdout",
     "output_type": "stream",
     "text": [
      "I'm Dave, and I've meditated 100 times'\n",
      "I'm Dave, and I don't have a beginner mind yet because I've meditated only 0 times'\n"
     ]
    }
   ],
   "source": [
    "import pickle\n",
    "\n",
    "\n",
    "class my_zen_class:\n",
    "    number_of_meditations = 0\n",
    "\n",
    "    def __init__(self, name):\n",
    "        self.number_of_meditations = 0\n",
    "        self.name = name\n",
    "\n",
    "    def meditate(self):\n",
    "        self.number_of_meditations = self.number_of_meditations + 1\n",
    "\n",
    "    def __getstate__(self):\n",
    "        state = self.__dict__.copy()\n",
    "        del state[\"number_of_meditations\"]\n",
    "        return state\n",
    "\n",
    "    def __setstate__(self, state):\n",
    "        self.__dict__.update(state)\n",
    "\n",
    "\n",
    "my_zen_object = my_zen_class(\"Dave\")\n",
    "for i in range(100):\n",
    "    my_zen_object.meditate()\n",
    "\n",
    "print(\n",
    "    str.format(\n",
    "        \"I'm {0}, and I've meditated {1} times'\",\n",
    "        my_zen_object.name,\n",
    "        my_zen_object.number_of_meditations,\n",
    "    )\n",
    ")\n",
    "my_pickled_zen_object = pickle.dumps(my_zen_object)\n",
    "my_zen_object = None\n",
    "my_new_zen_object = pickle.loads(my_pickled_zen_object)\n",
    "print(\n",
    "    str.format(\n",
    "        \"I'm {0}, and I don't have a beginner mind yet because I've meditated only {1} times'\",\n",
    "        my_new_zen_object.name,\n",
    "        my_new_zen_object.number_of_meditations,\n",
    "    )\n",
    ")"
   ]
  },
  {
   "cell_type": "markdown",
   "metadata": {},
   "source": [
    "# Serialization\n",
    "Source: https://www.learnpython.org/en/Serialization"
   ]
  },
  {
   "cell_type": "code",
   "execution_count": 20,
   "metadata": {},
   "outputs": [
    {
     "name": "stdout",
     "output_type": "stream",
     "text": [
      "ini json string [1, 2, 3, \"a\", \"b\", \"c\"]\n",
      "ini cara biasa b'\\x80\\x04\\x95\\x17\\x00\\x00\\x00\\x00\\x00\\x00\\x00]\\x94(K\\x01K\\x02K\\x03\\x8c\\x01a\\x94\\x8c\\x01b\\x94\\x8c\\x01c\\x94e.'\n",
      "ini pickle yang benar [1, 2, 3, 'a', 'b', 'c']\n"
     ]
    }
   ],
   "source": [
    "import json\n",
    "import pickle\n",
    "\n",
    "json_string = json.dumps([1, 2, 3, \"a\", \"b\", \"c\"])\n",
    "print(\"ini json string\", json_string)\n",
    "\n",
    "pickle_string = pickle.dumps([1, 2, 3, \"a\", \"b\", \"c\"])\n",
    "print(\"ini cara biasa\", pickle_string)  # kalo seperti ini yg muncul bilangan biner\n",
    "print(\"ini pickle yang benar\", pickle.loads(pickle_string))"
   ]
  },
  {
   "cell_type": "code",
   "execution_count": 21,
   "metadata": {},
   "outputs": [
    {
     "name": "stdout",
     "output_type": "stream",
     "text": [
      "300\n",
      "400\n",
      "800\n"
     ]
    }
   ],
   "source": [
    "import json\n",
    "\n",
    "\n",
    "def add_employee(salaries_json, name, salary):\n",
    "    salaries = json.loads(salaries_json)\n",
    "    salaries[name] = salary\n",
    "\n",
    "    return json.dumps(salaries)\n",
    "\n",
    "\n",
    "# test code\n",
    "salaries = '{\"Alfred\" : 300, \"Jane\" : 400 }'\n",
    "new_salaries = add_employee(salaries, \"Me\", 800)\n",
    "decoded_salaries = json.loads(new_salaries)\n",
    "print(decoded_salaries[\"Alfred\"])\n",
    "print(decoded_salaries[\"Jane\"])\n",
    "print(decoded_salaries[\"Me\"])"
   ]
  },
  {
   "cell_type": "code",
   "execution_count": 26,
   "metadata": {},
   "outputs": [
    {
     "name": "stdout",
     "output_type": "stream",
     "text": [
      "{'nim': '001', 'Nama': 'Yodi', 'prodi': 'SI'}\n"
     ]
    }
   ],
   "source": [
    "import pickle\n",
    "\n",
    "mahasiswa = {\"nim\": \"001\", \"Nama\": \"Yodi\", \"prodi\": \"SI\"}\n",
    "\n",
    "serial_mahasiswa = pickle.dumps(mahasiswa)\n",
    "\n",
    "print(pickle.loads(serial_mahasiswa))"
   ]
  },
  {
   "cell_type": "markdown",
   "metadata": {},
   "source": [
    "### NumPy\n"
   ]
  },
  {
   "cell_type": "code",
   "execution_count": 28,
   "metadata": {},
   "outputs": [
    {
     "ename": "ModuleNotFoundError",
     "evalue": "No module named 'NumPy'",
     "output_type": "error",
     "traceback": [
      "\u001b[1;31m---------------------------------------------------------------------------\u001b[0m",
      "\u001b[1;31mModuleNotFoundError\u001b[0m                       Traceback (most recent call last)",
      "\u001b[1;32m~\\AppData\\Local\\Temp/ipykernel_7572/752526257.py\u001b[0m in \u001b[0;36m<module>\u001b[1;34m\u001b[0m\n\u001b[1;32m----> 1\u001b[1;33m \u001b[1;32mimport\u001b[0m \u001b[0mNumPy\u001b[0m \u001b[1;32mas\u001b[0m \u001b[0mnp\u001b[0m\u001b[1;33m\u001b[0m\u001b[1;33m\u001b[0m\u001b[0m\n\u001b[0m\u001b[0;32m      2\u001b[0m \u001b[1;33m\u001b[0m\u001b[0m\n\u001b[0;32m      3\u001b[0m \u001b[1;33m\u001b[0m\u001b[0m\n\u001b[0;32m      4\u001b[0m \u001b[0mbyte_output\u001b[0m \u001b[1;33m=\u001b[0m \u001b[0mnp\u001b[0m\u001b[1;33m.\u001b[0m\u001b[0marray\u001b[0m\u001b[1;33m(\u001b[0m\u001b[1;33m[\u001b[0m \u001b[1;33m[\u001b[0m\u001b[1;36m1\u001b[0m\u001b[1;33m,\u001b[0m \u001b[1;36m2\u001b[0m\u001b[1;33m,\u001b[0m \u001b[1;36m3\u001b[0m\u001b[1;33m]\u001b[0m\u001b[1;33m,\u001b[0m \u001b[1;33m[\u001b[0m\u001b[1;36m4\u001b[0m\u001b[1;33m,\u001b[0m \u001b[1;36m5\u001b[0m\u001b[1;33m,\u001b[0m \u001b[1;36m6\u001b[0m\u001b[1;33m]\u001b[0m\u001b[1;33m,\u001b[0m \u001b[1;33m[\u001b[0m\u001b[1;36m7\u001b[0m\u001b[1;33m,\u001b[0m \u001b[1;36m8\u001b[0m\u001b[1;33m,\u001b[0m \u001b[1;36m9\u001b[0m\u001b[1;33m]\u001b[0m \u001b[1;33m]\u001b[0m\u001b[1;33m)\u001b[0m\u001b[1;33m.\u001b[0m\u001b[0mtobytes\u001b[0m\u001b[1;33m(\u001b[0m\u001b[1;33m)\u001b[0m\u001b[1;33m\u001b[0m\u001b[1;33m\u001b[0m\u001b[0m\n\u001b[0;32m      5\u001b[0m \u001b[1;33m\u001b[0m\u001b[0m\n",
      "\u001b[1;31mModuleNotFoundError\u001b[0m: No module named 'NumPy'"
     ]
    }
   ],
   "source": [
    "import NumPy as np\n",
    "\n",
    "\n",
    "byte_output = np.array([[1, 2, 3], [4, 5, 6], [7, 8, 9]]).tobytes()\n",
    "\n",
    "# Converting byte format back to NumPy array\n",
    "array_format = np.frombuffer(byte_output)\n",
    "\n",
    "print(array_format)"
   ]
  }
 ],
 "metadata": {
  "interpreter": {
   "hash": "1dbe5302cb3bb4c0fe4e492535fb181d3f49e6b02a7d389fb2104bcbd574eaf4"
  },
  "kernelspec": {
   "display_name": "Python 3.9.7 64-bit ('py39-nlp': conda)",
   "language": "python",
   "name": "python3"
  },
  "language_info": {
   "codemirror_mode": {
    "name": "ipython",
    "version": 3
   },
   "file_extension": ".py",
   "mimetype": "text/x-python",
   "name": "python",
   "nbconvert_exporter": "python",
   "pygments_lexer": "ipython3",
   "version": "3.9.7"
  },
  "orig_nbformat": 4
 },
 "nbformat": 4,
 "nbformat_minor": 2
}
