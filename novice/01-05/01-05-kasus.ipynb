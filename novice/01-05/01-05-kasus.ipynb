{
 "cells": [
  {
   "cell_type": "code",
   "execution_count": 48,
   "metadata": {},
   "outputs": [
    {
     "name": "stdout",
     "output_type": "stream",
     "text": [
      "{'pesawat': {'maskapai': [{'manufaktur': 'Boing', 'tahun': '2008', '_name': 'Garuda'}, {'manufaktur': 'Boing', 'tahun': '2008', '_name': 'Garuda'}, {'manufaktur': 'Boing', 'tahun': '2008', '_name': 'Garuda'}]}}\n",
      "waktu mengambil data: 0.0009982585906982422\n"
     ]
    }
   ],
   "source": [
    "import json\n",
    "import time\n",
    "\n",
    "start_time = time.time()\n",
    "with open('./data/pesawat.json', 'r') as f:\n",
    "    data = json.load(f)\n",
    "print(data)\n",
    "end_time = time.time()\n",
    "print(\"waktu mengambil data:\",end_time - start_time)"
   ]
  },
  {
   "cell_type": "code",
   "execution_count": 49,
   "metadata": {},
   "outputs": [
    {
     "name": "stdout",
     "output_type": "stream",
     "text": [
      "maskapai {'name': 'Garuda'}\n",
      "maskapai {'name': 'Merpati'}\n",
      "maskapai {'name': 'Lion'}\n",
      "waktu mengambil data: 0.0019958019256591797\n"
     ]
    }
   ],
   "source": [
    "import xml.etree.ElementTree as ET\n",
    "import time\n",
    "\n",
    "start_time = time.time()\n",
    "tree = ET.parse ('./data/pesawat.xml')\n",
    "root = tree.getroot()\n",
    "\n",
    "for child in root:\n",
    "    print(child.tag, child.attrib)\n",
    "end_time = time.time()\n",
    "print(\"waktu mengambil data:\", end_time - start_time)\n"
   ]
  }
 ],
 "metadata": {
  "interpreter": {
   "hash": "1dbe5302cb3bb4c0fe4e492535fb181d3f49e6b02a7d389fb2104bcbd574eaf4"
  },
  "kernelspec": {
   "display_name": "Python 3.9.7 64-bit ('py39-nlp': conda)",
   "language": "python",
   "name": "python3"
  },
  "language_info": {
   "codemirror_mode": {
    "name": "ipython",
    "version": 3
   },
   "file_extension": ".py",
   "mimetype": "text/x-python",
   "name": "python",
   "nbconvert_exporter": "python",
   "pygments_lexer": "ipython3",
   "version": "3.9.7"
  },
  "orig_nbformat": 4
 },
 "nbformat": 4,
 "nbformat_minor": 2
}
