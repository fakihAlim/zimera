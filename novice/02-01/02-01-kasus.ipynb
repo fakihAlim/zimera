{
 "cells": [
  {
   "cell_type": "markdown",
   "metadata": {},
   "source": [
    "### Ubah source code dan penjelasan pada artikel untuk JavaScript ini, diubah menjadi Python\n",
    "(https://blog.bitsrc.io/understanding-higher-order-functions-in-javascript-75461803bad)"
   ]
  },
  {
   "cell_type": "markdown",
   "metadata": {},
   "source": [
    "## Map"
   ]
  },
  {
   "cell_type": "markdown",
   "metadata": {},
   "source": [
    "#### Example 1#"
   ]
  },
  {
   "cell_type": "code",
   "execution_count": null,
   "metadata": {},
   "outputs": [],
   "source": [
    "# Kode Javascript\n",
    "\n",
    "# const arr1 = [1, 2, 3];\n",
    "# const arr2 = arr1.map(function(item) {\n",
    "#   return item * 2;\n",
    "# });\n",
    "# console.log(arr2);"
   ]
  },
  {
   "cell_type": "code",
   "execution_count": 3,
   "metadata": {},
   "outputs": [
    {
     "name": "stdout",
     "output_type": "stream",
     "text": [
      "[2, 4, 6]\n"
     ]
    }
   ],
   "source": [
    "# kode di python\n",
    "\n",
    "arr1 = [1, 2, 3]\n",
    "arr2 = map(lambda a:a*2,arr1)\n",
    "print(list(arr2))\n"
   ]
  },
  {
   "cell_type": "markdown",
   "metadata": {},
   "source": [
    "### Example 2#"
   ]
  },
  {
   "cell_type": "code",
   "execution_count": null,
   "metadata": {},
   "outputs": [],
   "source": [
    "# Kode Javascript\n",
    "\n",
    "# const birthYear = [1975, 1997, 2002, 1995, 1985];\n",
    "# const ages = birthYear.map(year => 2018 - year);\n",
    "# // prints [ 43, 21, 16, 23, 33 ]\n",
    "# console.log(ages);"
   ]
  },
  {
   "cell_type": "code",
   "execution_count": 4,
   "metadata": {},
   "outputs": [
    {
     "name": "stdout",
     "output_type": "stream",
     "text": [
      "[46, 24, 19, 26, 36]\n"
     ]
    }
   ],
   "source": [
    "birthYear = [1975, 1997, 2002, 1995, 1985]\n",
    "umur = map(lambda u:2021 - u, birthYear)\n",
    "print(list(umur))\n"
   ]
  },
  {
   "cell_type": "markdown",
   "metadata": {},
   "source": [
    "## Filter"
   ]
  },
  {
   "cell_type": "code",
   "execution_count": 7,
   "metadata": {},
   "outputs": [
    {
     "name": "stdout",
     "output_type": "stream",
     "text": [
      "[35]\n"
     ]
    }
   ],
   "source": [
    "numbers = [13, 4, 18, 35]\n",
    "div_by_5 = filter(lambda num: num % 5 == 0, numbers)\n",
    "print(list(div_by_5))"
   ]
  },
  {
   "cell_type": "code",
   "execution_count": 10,
   "metadata": {},
   "outputs": [
    {
     "name": "stdout",
     "output_type": "stream",
     "text": [
      "[27, 216, 729, 1728, 3375, 5832]\n"
     ]
    }
   ],
   "source": [
    "arbitrary_numbers = map(lambda num: num ** 3, filter(lambda num: num % 3 == 0, range(1, 21)))\n",
    "\n",
    "print(list(arbitrary_numbers)) # [27, 216, 729, 1728, 3375, 5832]"
   ]
  },
  {
   "cell_type": "code",
   "execution_count": null,
   "metadata": {},
   "outputs": [],
   "source": [
    "# javascript\n",
    "\n",
    "# const persons = [\n",
    "#   { name: 'Peter', age: 16 },\n",
    "#   { name: 'Mark', age: 18 },\n",
    "#   { name: 'John', age: 27 },\n",
    "#   { name: 'Jane', age: 14 },\n",
    "#   { name: 'Tony', age: 24},\n",
    "# ];\n",
    "# const fullAge = persons.filter(person => person.age >= 18);\n",
    "# console.log(fullAge);"
   ]
  },
  {
   "cell_type": "code",
   "execution_count": 3,
   "metadata": {},
   "outputs": [
    {
     "name": "stdout",
     "output_type": "stream",
     "text": [
      "[{'name': 'Mark', 'age': 18}]\n"
     ]
    }
   ],
   "source": [
    "persons = [\n",
    "  { \"name\": 'Peter', \"age\": 16 },\n",
    "  { \"name\": 'Mark', \"age\": 18 },\n",
    "  { \"name\": 'John', \"age\": 27 },\n",
    "  { \"name\": 'Jane', \"age\": 14 },\n",
    "  { \"name\": 'Tony', \"age\": 24},\n",
    "]\n",
    "\n",
    "fullAge = filter(lambda umur: umur['age'] > 18, persons)\n",
    "print(list(fullAge))"
   ]
  },
  {
   "cell_type": "markdown",
   "metadata": {},
   "source": [
    "### Reduce"
   ]
  },
  {
   "cell_type": "markdown",
   "metadata": {},
   "source": [
    "#### Example 1#"
   ]
  },
  {
   "cell_type": "code",
   "execution_count": 22,
   "metadata": {},
   "outputs": [],
   "source": [
    "# Javascript\n",
    "\n",
    "# const arr = [5, 7, 1, 8, 4];\n",
    "# const sum = arr.reduce(function(accumulator, currentValue) {\n",
    "#   return accumulator + currentValue;\n",
    "# });\n",
    "# // prints 25\n",
    "# console.log(sum);"
   ]
  },
  {
   "cell_type": "code",
   "execution_count": 24,
   "metadata": {},
   "outputs": [
    {
     "name": "stdout",
     "output_type": "stream",
     "text": [
      "25\n"
     ]
    }
   ],
   "source": [
    "from functools import reduce\n",
    "arr = [5, 7, 1, 8, 4]\n",
    "\n",
    "sum = reduce(lambda accumulator, currentValue: accumulator + currentValue,arr)\n",
    "print(sum)\n"
   ]
  }
 ],
 "metadata": {
  "interpreter": {
   "hash": "6c592c5439a4cb108584708d37b005c00d194dc00d72dd9db967113376513b10"
  },
  "kernelspec": {
   "display_name": "Python 3.9.7 64-bit ('NLP-py39': conda)",
   "language": "python",
   "name": "python3"
  },
  "language_info": {
   "codemirror_mode": {
    "name": "ipython",
    "version": 3
   },
   "file_extension": ".py",
   "mimetype": "text/x-python",
   "name": "python",
   "nbconvert_exporter": "python",
   "pygments_lexer": "ipython3",
   "version": "3.9.7"
  },
  "orig_nbformat": 4
 },
 "nbformat": 4,
 "nbformat_minor": 2
}
