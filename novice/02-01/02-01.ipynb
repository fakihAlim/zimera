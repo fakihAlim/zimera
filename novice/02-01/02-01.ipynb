{
 "cells": [
  {
   "cell_type": "markdown",
   "metadata": {},
   "source": [
    "### Functional Programming\n",
    "Source: https://www.hackerearth.com/practice/python/functional-programming/functional-programming-1/tutorial/"
   ]
  },
  {
   "cell_type": "markdown",
   "metadata": {},
   "source": [
    "#### Functions as first class objects in python"
   ]
  },
  {
   "cell_type": "code",
   "execution_count": 2,
   "metadata": {},
   "outputs": [
    {
     "data": {
      "text/plain": [
       "[1, 2, 3]"
      ]
     },
     "execution_count": 2,
     "metadata": {},
     "output_type": "execute_result"
    }
   ],
   "source": [
    "list(map(int, [\"1\", \"2\", \"3\"]))"
   ]
  },
  {
   "cell_type": "code",
   "execution_count": 4,
   "metadata": {},
   "outputs": [
    {
     "name": "stdout",
     "output_type": "stream",
     "text": [
      "hallo world\n"
     ]
    }
   ],
   "source": [
    "def hello_world(h):\n",
    "    def world(w):\n",
    "        print(h, w)\n",
    "\n",
    "    return world\n",
    "\n",
    "\n",
    "h = hello_world\n",
    "x = h(\"hallo\")\n",
    "x(\"world\")"
   ]
  },
  {
   "cell_type": "code",
   "execution_count": 6,
   "metadata": {},
   "outputs": [
    {
     "data": {
      "text/plain": [
       "[<function __main__.hello_world(h)>,\n",
       " <function __main__.hello_world.<locals>.world(w)>]"
      ]
     },
     "execution_count": 6,
     "metadata": {},
     "output_type": "execute_result"
    }
   ],
   "source": [
    "function_list = [h, x]\n",
    "function_list"
   ]
  },
  {
   "cell_type": "markdown",
   "metadata": {},
   "source": [
    "#### Python functional purity"
   ]
  },
  {
   "cell_type": "code",
   "execution_count": 9,
   "metadata": {},
   "outputs": [],
   "source": [
    "def naive_sum(list):\n",
    "    s = 0\n",
    "    for l in list:\n",
    "        s += l\n",
    "    return s\n",
    "\n",
    "\n",
    "# can be replaced with the following construct:\n",
    "# sum(list)"
   ]
  },
  {
   "cell_type": "markdown",
   "metadata": {},
   "source": []
  },
  {
   "cell_type": "code",
   "execution_count": 14,
   "metadata": {},
   "outputs": [
    {
     "name": "stdout",
     "output_type": "stream",
     "text": [
      "783012621312\n"
     ]
    }
   ],
   "source": [
    "# define a function `call` where you provide the function and the arguments\n",
    "def call(x, f):\n",
    "    return f(x)\n",
    "\n",
    "\n",
    "# define a function that returns the square\n",
    "square = lambda x: x * x\n",
    "\n",
    "# define a function that returns the increment\n",
    "increment = lambda x: x + 1\n",
    "\n",
    "# define a function that returns the cube\n",
    "cube = lambda x: x * x * x\n",
    "\n",
    "# define a function that returns the decrement\n",
    "decrement = lambda x: x - 1\n",
    "\n",
    "# put all the functions in a list in the order that you want to execute them\n",
    "funcs = [square, increment, cube, decrement]\n",
    "\n",
    "# bring it all together. Below is the non functional part.\n",
    "# in functional programming you separate the functional and the non functional parts.\n",
    "from functools import reduce  # reduce is in the functools library\n",
    "\n",
    "print(reduce(call, funcs, 96))  # output 783012621312"
   ]
  },
  {
   "cell_type": "markdown",
   "metadata": {},
   "source": [
    "## Functional Programming\n",
    "source: https://www.kite.com/blog/python/functional-programming/"
   ]
  },
  {
   "cell_type": "code",
   "execution_count": 20,
   "metadata": {},
   "outputs": [
    {
     "name": "stdout",
     "output_type": "stream",
     "text": [
      "9\n"
     ]
    }
   ],
   "source": [
    "(lambda a, b: a + b)(3, 4)\n",
    "\n",
    "tambah = lambda x, y: x + y\n",
    "print(tambah(4, 5))"
   ]
  },
  {
   "cell_type": "code",
   "execution_count": 21,
   "metadata": {},
   "outputs": [
    {
     "name": "stdout",
     "output_type": "stream",
     "text": [
      "314.0\n"
     ]
    }
   ],
   "source": [
    "luas_ling = lambda r: 3.14 * r * r\n",
    "print(luas_ling(3))"
   ]
  },
  {
   "cell_type": "code",
   "execution_count": 22,
   "metadata": {},
   "outputs": [
    {
     "name": "stdout",
     "output_type": "stream",
     "text": [
      "314.0\n"
     ]
    }
   ],
   "source": [
    "def l_ling(r):\n",
    "    return 3.14 * r * r\n",
    "\n",
    "\n",
    "print(l_ling(10))"
   ]
  },
  {
   "cell_type": "markdown",
   "metadata": {},
   "source": [
    "#### Functools"
   ]
  },
  {
   "cell_type": "code",
   "execution_count": 39,
   "metadata": {},
   "outputs": [
    {
     "data": {
      "text/plain": [
       "720"
      ]
     },
     "execution_count": 39,
     "metadata": {},
     "output_type": "execute_result"
    }
   ],
   "source": [
    "val = [1, 2, 3, 4, 5, 6]\n",
    "\n",
    "list(map(lambda a: a * 2, val))\n",
    "\n",
    "reduce(lambda a, b: a * b, val, 1)"
   ]
  },
  {
   "cell_type": "markdown",
   "metadata": {},
   "source": [
    "#### Decorators"
   ]
  },
  {
   "cell_type": "code",
   "execution_count": 56,
   "metadata": {},
   "outputs": [
    {
     "ename": "SyntaxError",
     "evalue": "invalid syntax (Temp/ipykernel_9352/3304746292.py, line 13)",
     "output_type": "error",
     "traceback": [
      "\u001b[1;36m  File \u001b[1;32m\"C:\\Users\\AURAMA~1\\AppData\\Local\\Temp/ipykernel_9352/3304746292.py\"\u001b[1;36m, line \u001b[1;32m13\u001b[0m\n\u001b[1;33m    def test_pluralize(\"coba\"):\u001b[0m\n\u001b[1;37m                       ^\u001b[0m\n\u001b[1;31mSyntaxError\u001b[0m\u001b[1;31m:\u001b[0m invalid syntax\n"
     ]
    }
   ],
   "source": [
    "dictionary = [\"fox\", \"boss\", \"orange\", \"toes\", \"fairy\", \"cup\"]\n",
    "\n",
    "\n",
    "def puralize(words):\n",
    "    for i in range(len(words)):\n",
    "        word = words[i]\n",
    "        if word.endswith(\"s\") or word.endswith(\"x\"):\n",
    "            word += \"es\"\n",
    "        if word.endswith(\"y\"):\n",
    "            word = word[:-1] + \"ies\"\n",
    "        else:\n",
    "            word += \"s\"\n",
    "        words[i] = word\n",
    "\n",
    "\n",
    "def test_pluralize():\n",
    "    pluralize(dictionary)\n",
    "    assert dictionary == [\"foxes\", \"bosses\", \"oranges\", \"toeses\", \"fairies\", \"cups\"]\n",
    "\n",
    "\n",
    "print(test_pluralize())"
   ]
  },
  {
   "cell_type": "code",
   "execution_count": 57,
   "metadata": {},
   "outputs": [
    {
     "data": {
      "text/plain": [
       "['bar', 'foo', 'bar']"
      ]
     },
     "execution_count": 57,
     "metadata": {},
     "output_type": "execute_result"
    }
   ],
   "source": [
    "def add_bar(items=[]):\n",
    "    items.append(\"bar\")\n",
    "    return items\n",
    "\n",
    "\n",
    "l = add_bar()\n",
    "l.append(\"foo\")\n",
    "add_bar()"
   ]
  }
 ],
 "metadata": {
  "interpreter": {
   "hash": "6c592c5439a4cb108584708d37b005c00d194dc00d72dd9db967113376513b10"
  },
  "kernelspec": {
   "display_name": "Python 3.9.7 64-bit ('NLP-py39': conda)",
   "language": "python",
   "name": "python3"
  },
  "language_info": {
   "codemirror_mode": {
    "name": "ipython",
    "version": 3
   },
   "file_extension": ".py",
   "mimetype": "text/x-python",
   "name": "python",
   "nbconvert_exporter": "python",
   "pygments_lexer": "ipython3",
   "version": "3.9.7"
  },
  "orig_nbformat": 4
 },
 "nbformat": 4,
 "nbformat_minor": 2
}
