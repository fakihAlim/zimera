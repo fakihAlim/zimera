{
 "cells": [
  {
   "cell_type": "markdown",
   "metadata": {},
   "source": [
    "Bubble Sort"
   ]
  },
  {
   "cell_type": "code",
   "execution_count": 1,
   "metadata": {},
   "outputs": [
    {
     "name": "stdout",
     "output_type": "stream",
     "text": [
      "Sebelum diurutkan\n",
      "[21, 43, 3, 11, 54, 22, 6, 71, 1, 2]\n",
      "Setelah diurutkan:\n",
      "[1, 2, 3, 6, 11, 21, 22, 43, 54, 71]\n",
      "Waktu untuk mengurutkan:  0.0\n"
     ]
    }
   ],
   "source": [
    "import time\n",
    "\n",
    "num_list = [21, 43, 3, 11, 54, 22, 6, 71, 1, 2]\n",
    "\n",
    "print(\"Sebelum diurutkan\")\n",
    "print(num_list)\n",
    "\n",
    "n = len(num_list)\n",
    "\n",
    "start_time = time.time()\n",
    "\n",
    "for i in range(n):\n",
    "\n",
    "    already_sorted = True\n",
    "\n",
    "    for j in range(n - i - 1):\n",
    "        if num_list[j] > num_list[j + 1]:\n",
    "            num_list[j], num_list[j + 1] = num_list[j + 1], num_list[j]\n",
    "\n",
    "            already_sorted = False\n",
    "\n",
    "    if already_sorted:\n",
    "        break\n",
    "\n",
    "end_time = time.time()\n",
    "\n",
    "print(\"Setelah diurutkan:\")\n",
    "print(num_list)\n",
    "print(\"Waktu untuk mengurutkan: \", end_time - start_time)"
   ]
  },
  {
   "cell_type": "markdown",
   "metadata": {},
   "source": [
    "insertion sort"
   ]
  },
  {
   "cell_type": "code",
   "execution_count": 32,
   "metadata": {},
   "outputs": [
    {
     "name": "stdout",
     "output_type": "stream",
     "text": [
      "Sebelum diurutkan\n",
      "[21, 43, 3, 11, 54, 22, 6, 71, 1, 2]\n",
      "Setelah diurutkan:\n",
      "[1, 2, 3, 6, 11, 21, 22, 43, 54, 71]\n",
      "Waktu untuk mengurutkan:  0.000997304916381836\n"
     ]
    }
   ],
   "source": [
    "import time\n",
    "\n",
    "num_list = [21, 43, 3, 11, 54, 22, 6, 71, 1, 2]\n",
    "\n",
    "print(\"Sebelum diurutkan\")\n",
    "print(num_list)\n",
    "\n",
    "n = len(num_list)\n",
    "\n",
    "start_time = time.time()\n",
    "\n",
    "for i in range(1, n):\n",
    "    key_item = num_list[i]\n",
    "\n",
    "    j = i - 1\n",
    "\n",
    "    while j >= 0 and num_list[j] > key_item:\n",
    "        num_list[j + 1] = num_list[j]\n",
    "        j -= 1\n",
    "\n",
    "    num_list[j + 1] = key_item\n",
    "\n",
    "end_time = time.time()\n",
    "\n",
    "print(\"Setelah diurutkan:\")\n",
    "print(num_list)\n",
    "print(\"Waktu untuk mengurutkan: \", end_time - start_time)"
   ]
  },
  {
   "cell_type": "markdown",
   "metadata": {},
   "source": [
    "#### Selection Sort\n"
   ]
  },
  {
   "cell_type": "code",
   "execution_count": 25,
   "metadata": {},
   "outputs": [
    {
     "name": "stdout",
     "output_type": "stream",
     "text": [
      "Sebelum diurutkan\n",
      "[21, 43, 3, 11, 12, 22, 6, 71, 1, 2]\n",
      "Setelah diurutkan:\n",
      "[1, 2, 3, 6, 11, 12, 21, 22, 43, 71]\n",
      "Waktu untuk mengurutkan:  0.0\n"
     ]
    }
   ],
   "source": [
    "import time\n",
    "\n",
    "num_list = [21, 43, 3, 11, 12, 22, 6, 71, 1, 2]\n",
    "\n",
    "print(\"Sebelum diurutkan\")\n",
    "print(num_list)\n",
    "\n",
    "n = len(num_list)\n",
    "\n",
    "start_time = time.time()\n",
    "\n",
    "for i in range(n):\n",
    "    min_pos = i\n",
    "    for j in range(min_pos,n):\n",
    "        if num_list[j] < num_list[min_pos]:\n",
    "            min_pos = j\n",
    "    temp = num_list[i]\n",
    "    num_list[i] = num_list[min_pos]\n",
    "    num_list[min_pos] = temp\n",
    "\n",
    "end_time = time.time()\n",
    "\n",
    "print(\"Setelah diurutkan:\")\n",
    "print(num_list)\n",
    "print(\"Waktu untuk mengurutkan: \", end_time - start_time)\n"
   ]
  }
 ],
 "metadata": {
  "interpreter": {
   "hash": "1dbe5302cb3bb4c0fe4e492535fb181d3f49e6b02a7d389fb2104bcbd574eaf4"
  },
  "kernelspec": {
   "display_name": "Python 3.9.7 64-bit ('py39-nlp': conda)",
   "language": "python",
   "name": "python3"
  },
  "language_info": {
   "codemirror_mode": {
    "name": "ipython",
    "version": 3
   },
   "file_extension": ".py",
   "mimetype": "text/x-python",
   "name": "python",
   "nbconvert_exporter": "python",
   "pygments_lexer": "ipython3",
   "version": "3.9.7"
  },
  "orig_nbformat": 4
 },
 "nbformat": 4,
 "nbformat_minor": 2
}
