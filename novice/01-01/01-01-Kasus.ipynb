{
 "cells": [
  {
   "cell_type": "markdown",
   "metadata": {},
   "source": [
    "Bubble Sort"
   ]
  },
  {
   "cell_type": "code",
   "execution_count": 1,
   "metadata": {},
   "outputs": [
    {
     "name": "stdout",
     "output_type": "stream",
     "text": [
      "Sebelum diurutkan\n",
      "[21, 43, 3, 11, 54, 22, 6, 71, 1, 2]\n",
      "Setelah diurutkan:\n",
      "[1, 2, 3, 6, 11, 21, 22, 43, 54, 71]\n",
      "Waktu untuk mengurutkan:  0.0\n"
     ]
    }
   ],
   "source": [
    "import time\n",
    "\n",
    "num_list = [21, 43, 3, 11, 54, 22, 6, 71, 1, 2]\n",
    "\n",
    "print(\"Sebelum diurutkan\")\n",
    "print(num_list)\n",
    "\n",
    "n = len(num_list)\n",
    "\n",
    "start_time = time.time()\n",
    "\n",
    "for i in range(n):\n",
    "\n",
    "    already_sorted = True\n",
    "\n",
    "    for j in range(n - i - 1):\n",
    "        if num_list[j] > num_list[j + 1]:\n",
    "            num_list[j], num_list[j + 1] = num_list[j + 1], num_list[j]\n",
    "\n",
    "            already_sorted = False\n",
    "\n",
    "    if already_sorted:\n",
    "        break\n",
    "\n",
    "end_time = time.time()\n",
    "\n",
    "print(\"Setelah diurutkan:\")\n",
    "print(num_list)\n",
    "print(\"Waktu untuk mengurutkan: \", end_time - start_time)"
   ]
  },
  {
   "cell_type": "markdown",
   "metadata": {},
   "source": [
    "insertion sort"
   ]
  },
  {
   "cell_type": "code",
   "execution_count": 2,
   "metadata": {},
   "outputs": [
    {
     "name": "stdout",
     "output_type": "stream",
     "text": [
      "Sebelum diurutkan\n",
      "[21, 43, 3, 11, 54, 22, 6, 71, 1, 2]\n",
      "Setelah diurutkan:\n",
      "[1, 2, 3, 6, 11, 21, 22, 43, 54, 71]\n",
      "Waktu untuk mengurutkan:  0.0\n"
     ]
    }
   ],
   "source": [
    "import time\n",
    "\n",
    "num_list = [21, 43, 3, 11, 54, 22, 6, 71, 1, 2]\n",
    "\n",
    "print(\"Sebelum diurutkan\")\n",
    "print(num_list)\n",
    "\n",
    "n = len(num_list)\n",
    "\n",
    "start_time = time.time()\n",
    "\n",
    "for i in range(1, n):\n",
    "    key_item = num_list[i]\n",
    "\n",
    "    j = i - 1\n",
    "\n",
    "    while j >= 0 and num_list[j] > key_item:\n",
    "        num_list[j + 1] = num_list[j]\n",
    "        j -= 1\n",
    "\n",
    "    num_list[j + 1] = key_item\n",
    "\n",
    "end_time = time.time()\n",
    "\n",
    "print(\"Setelah diurutkan:\")\n",
    "print(num_list)\n",
    "print(\"Waktu untuk mengurutkan: \", end_time - start_time)"
   ]
  },
  {
   "cell_type": "code",
   "execution_count": 1,
   "metadata": {},
   "outputs": [
    {
     "name": "stdout",
     "output_type": "stream",
     "text": [
      "Given array is\n",
      "12\n",
      "11\n",
      "13\n",
      "5\n",
      "6\n",
      "7\n",
      "\n",
      "\n",
      "Sorted array is\n",
      "5\n",
      "6\n",
      "7\n",
      "11\n",
      "12\n",
      "13\n"
     ]
    }
   ],
   "source": [
    "def merge(arr, l, m, r):\n",
    "\tn1 = m - l + 1\n",
    "\tn2 = r - m\n",
    "\n",
    "\t# create temp arrays\n",
    "\tL = [0] * (n1)\n",
    "\tR = [0] * (n2)\n",
    "\n",
    "\t# Copy data to temp arrays L[] and R[]\n",
    "\tfor i in range(0, n1):\n",
    "\t\tL[i] = arr[l + i]\n",
    "\n",
    "\tfor j in range(0, n2):\n",
    "\t\tR[j] = arr[m + 1 + j]\n",
    "\n",
    "\t# Merge the temp arrays back into arr[l..r]\n",
    "\ti = 0\t # Initial index of first subarray\n",
    "\tj = 0\t # Initial index of second subarray\n",
    "\tk = l\t # Initial index of merged subarray\n",
    "\n",
    "\twhile i < n1 and j < n2:\n",
    "\t\tif L[i] <= R[j]:\n",
    "\t\t\tarr[k] = L[i]\n",
    "\t\t\ti += 1\n",
    "\t\telse:\n",
    "\t\t\tarr[k] = R[j]\n",
    "\t\t\tj += 1\n",
    "\t\tk += 1\n",
    "\n",
    "\t# Copy the remaining elements of L[], if there\n",
    "\t# are any\n",
    "\twhile i < n1:\n",
    "\t\tarr[k] = L[i]\n",
    "\t\ti += 1\n",
    "\t\tk += 1\n",
    "\n",
    "\t# Copy the remaining elements of R[], if there\n",
    "\t# are any\n",
    "\twhile j < n2:\n",
    "\t\tarr[k] = R[j]\n",
    "\t\tj += 1\n",
    "\t\tk += 1\n",
    "\n",
    "# l is for left index and r is right index of the\n",
    "# sub-array of arr to be sorted\n",
    "\n",
    "\n",
    "def mergeSort(arr, l, r):\n",
    "\tif l < r:\n",
    "\n",
    "\t\t# Same as (l+r)//2, but avoids overflow for\n",
    "\t\t# large l and h\n",
    "\t\tm = l+(r-l)//2\n",
    "\n",
    "\t\t# Sort first and second halves\n",
    "\t\tmergeSort(arr, l, m)\n",
    "\t\tmergeSort(arr, m+1, r)\n",
    "\t\tmerge(arr, l, m, r)\n",
    "\n",
    "\n",
    "# Driver code to test above\n",
    "arr = [12, 11, 13, 5, 6, 7]\n",
    "n = len(arr)\n",
    "print(\"Given array is\")\n",
    "for i in range(n):\n",
    "\tprint(\"%d\" % arr[i]),\n",
    "\n",
    "mergeSort(arr, 0, n-1)\n",
    "print(\"\\n\\nSorted array is\")\n",
    "for i in range(n):\n",
    "\tprint(\"%d\" % arr[i]),\n",
    "\n",
    "# This code is contributed by Mohit Kumra\n"
   ]
  }
 ],
 "metadata": {
  "interpreter": {
   "hash": "1dbe5302cb3bb4c0fe4e492535fb181d3f49e6b02a7d389fb2104bcbd574eaf4"
  },
  "kernelspec": {
   "display_name": "Python 3.9.7 64-bit ('py39-nlp': conda)",
   "language": "python",
   "name": "python3"
  },
  "language_info": {
   "codemirror_mode": {
    "name": "ipython",
    "version": 3
   },
   "file_extension": ".py",
   "mimetype": "text/x-python",
   "name": "python",
   "nbconvert_exporter": "python",
   "pygments_lexer": "ipython3",
   "version": "3.9.7"
  },
  "orig_nbformat": 4
 },
 "nbformat": 4,
 "nbformat_minor": 2
}
