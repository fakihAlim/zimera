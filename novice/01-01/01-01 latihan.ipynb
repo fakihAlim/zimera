{
 "cells": [
  {
   "cell_type": "code",
   "execution_count": 1,
   "metadata": {},
   "outputs": [],
   "source": [
    "import sys"
   ]
  },
  {
   "cell_type": "code",
   "execution_count": 2,
   "metadata": {},
   "outputs": [
    {
     "name": "stdout",
     "output_type": "stream",
     "text": [
      "--ip=127.0.0.1\n"
     ]
    }
   ],
   "source": [
    "print (sys.argv[1])"
   ]
  },
  {
   "cell_type": "code",
   "execution_count": 3,
   "metadata": {},
   "outputs": [
    {
     "data": {
      "text/plain": [
       "[2, 4, 5, 6, 8]"
      ]
     },
     "execution_count": 3,
     "metadata": {},
     "output_type": "execute_result"
    }
   ],
   "source": [
    "array = [8,2,6,4,5]\n",
    "sorted(array)"
   ]
  },
  {
   "cell_type": "markdown",
   "metadata": {},
   "source": [
    "Bubble Sort"
   ]
  },
  {
   "cell_type": "code",
   "execution_count": 1,
   "metadata": {},
   "outputs": [
    {
     "name": "stdout",
     "output_type": "stream",
     "text": [
      "Sebelum diurutkan\n",
      "[21, 43, 3, 11, 54, 22, 6, 71, 1, 2]\n",
      "Setelah diurutkan:\n",
      "[1, 2, 3, 6, 11, 21, 22, 43, 54, 71]\n",
      "Waktu untuk mengurutkan:  0.0\n"
     ]
    }
   ],
   "source": [
    "import time\n",
    "\n",
    "num_list = [21, 43, 3, 11, 54, 22, 6, 71, 1, 2]\n",
    "\n",
    "print(\"Sebelum diurutkan\")\n",
    "print(num_list)\n",
    "\n",
    "n = len(num_list)\n",
    "\n",
    "start_time = time.time()\n",
    "\n",
    "for i in range(n):\n",
    "\n",
    "    already_sorted = True\n",
    "\n",
    "    for j in range(n - i - 1):\n",
    "        if num_list[j] > num_list[j + 1]:\n",
    "            num_list[j], num_list[j + 1] = num_list[j + 1], num_list[j]\n",
    "\n",
    "            already_sorted = False\n",
    "\n",
    "    if already_sorted:\n",
    "        break\n",
    "\n",
    "end_time = time.time()\n",
    "\n",
    "print(\"Setelah diurutkan:\")\n",
    "print(num_list)\n",
    "print(\"Waktu untuk mengurutkan: \", end_time - start_time)"
   ]
  },
  {
   "cell_type": "markdown",
   "metadata": {},
   "source": [
    "insertion sort"
   ]
  },
  {
   "cell_type": "code",
   "execution_count": 2,
   "metadata": {},
   "outputs": [
    {
     "name": "stdout",
     "output_type": "stream",
     "text": [
      "Sebelum diurutkan\n",
      "[21, 43, 3, 11, 54, 22, 6, 71, 1, 2]\n",
      "Setelah diurutkan:\n",
      "[1, 2, 3, 6, 11, 21, 22, 43, 54, 71]\n",
      "Waktu untuk mengurutkan:  0.0\n"
     ]
    }
   ],
   "source": [
    "import time\n",
    "\n",
    "num_list = [21, 43, 3, 11, 54, 22, 6, 71, 1, 2]\n",
    "\n",
    "print(\"Sebelum diurutkan\")\n",
    "print(num_list)\n",
    "\n",
    "n = len(num_list)\n",
    "\n",
    "start_time = time.time()\n",
    "\n",
    "for i in range(1, n):\n",
    "    key_item = num_list[i]\n",
    "\n",
    "    j = i - 1\n",
    "\n",
    "    while j >= 0 and num_list[j] > key_item:\n",
    "        num_list[j + 1] = num_list[j]\n",
    "        j -= 1\n",
    "\n",
    "    num_list[j + 1] = key_item\n",
    "\n",
    "end_time = time.time()\n",
    "\n",
    "print(\"Setelah diurutkan:\")\n",
    "print(num_list)\n",
    "print(\"Waktu untuk mengurutkan: \", end_time - start_time)"
   ]
  },
  {
   "cell_type": "code",
   "execution_count": 12,
   "metadata": {},
   "outputs": [
    {
     "ename": "TypeError",
     "evalue": "'int' object is not subscriptable",
     "output_type": "error",
     "traceback": [
      "\u001b[1;31m---------------------------------------------------------------------------\u001b[0m",
      "\u001b[1;31mTypeError\u001b[0m                                 Traceback (most recent call last)",
      "\u001b[1;32m~\\AppData\\Local\\Temp/ipykernel_3372/3277859763.py\u001b[0m in \u001b[0;36m<module>\u001b[1;34m\u001b[0m\n\u001b[0;32m     11\u001b[0m         \u001b[1;32mwhile\u001b[0m \u001b[0mawal\u001b[0m \u001b[1;33m<\u001b[0m \u001b[0mlen\u001b[0m\u001b[1;33m(\u001b[0m\u001b[0mdatanya\u001b[0m\u001b[1;33m)\u001b[0m \u001b[1;32mand\u001b[0m \u001b[0mdatanya\u001b[0m\u001b[1;33m[\u001b[0m\u001b[0mawal\u001b[0m\u001b[1;33m]\u001b[0m \u001b[1;33m<=\u001b[0m\u001b[0mpivot\u001b[0m\u001b[1;33m:\u001b[0m\u001b[1;33m\u001b[0m\u001b[1;33m\u001b[0m\u001b[0m\n\u001b[0;32m     12\u001b[0m             \u001b[0mawal\u001b[0m \u001b[1;33m+=\u001b[0m\u001b[1;36m1\u001b[0m\u001b[1;33m\u001b[0m\u001b[1;33m\u001b[0m\u001b[0m\n\u001b[1;32m---> 13\u001b[1;33m         \u001b[1;32mwhile\u001b[0m \u001b[0mawal\u001b[0m\u001b[1;33m[\u001b[0m\u001b[0makhir\u001b[0m\u001b[1;33m]\u001b[0m \u001b[1;33m>\u001b[0m \u001b[0mpivot\u001b[0m\u001b[1;33m:\u001b[0m\u001b[1;33m\u001b[0m\u001b[1;33m\u001b[0m\u001b[0m\n\u001b[0m\u001b[0;32m     14\u001b[0m             \u001b[0makhir\u001b[0m \u001b[1;33m-=\u001b[0m\u001b[1;36m1\u001b[0m\u001b[1;33m\u001b[0m\u001b[1;33m\u001b[0m\u001b[0m\n\u001b[0;32m     15\u001b[0m         \u001b[1;32mif\u001b[0m\u001b[1;33m(\u001b[0m\u001b[0mawal\u001b[0m \u001b[1;33m<\u001b[0m \u001b[0makhir\u001b[0m\u001b[1;33m)\u001b[0m\u001b[1;33m:\u001b[0m\u001b[1;33m\u001b[0m\u001b[1;33m\u001b[0m\u001b[0m\n",
      "\u001b[1;31mTypeError\u001b[0m: 'int' object is not subscriptable"
     ]
    }
   ],
   "source": [
    "\n",
    "datanya = [4,7,1,6,12,10,8]\n",
    "\n",
    "awal = 0\n",
    "akhir = len(datanya)\n",
    "\n",
    "pivotIndex = awal\n",
    "pivot = datanya[pivotIndex]\n",
    "\n",
    "if(awal < akhir):\n",
    "    while awal < akhir:\n",
    "        while awal < len(datanya) and datanya[awal] <=pivot:\n",
    "            awal +=1\n",
    "        while awal[akhir] > pivot:\n",
    "            akhir -=1\n",
    "        if(awal < akhir):\n",
    "            datanya[awal], datanya[akhir] = datanya[akhir], datanya[awal]\n",
    "    \n",
    "    datanya[akhir], array[pivotIndex] = datanya[pivotIndex], array[akhir]\n",
    "\n",
    "    pembagian = akhir\n",
    "\n",
    "\t\n",
    "def quick_sort(start, end, array):\n",
    "\t\n",
    "\tif (start < end):\n",
    "\t\t\n",
    "\t\tp = partition(start, end, array)\n",
    "\t\t\n",
    "\t\tquick_sort(start, p - 1, array)\n",
    "\t\tquick_sort(p + 1, end, array)\n",
    "\t\t\n",
    "array = [ 10, 7, 8, 9, 1, 5 ]\n",
    "quick_sort(0, len(array) - 1, array)\n",
    "\n",
    "print('Sorted array: ini',array)\n",
    "\t\n",
    "\n"
   ]
  },
  {
   "cell_type": "code",
   "execution_count": 1,
   "metadata": {},
   "outputs": [
    {
     "ename": "TabError",
     "evalue": "inconsistent use of tabs and spaces in indentation (Temp/ipykernel_6872/3910459840.py, line 23)",
     "output_type": "error",
     "traceback": [
      "\u001b[1;36m  File \u001b[1;32m\"C:\\Users\\DeLL\\AppData\\Local\\Temp/ipykernel_6872/3910459840.py\"\u001b[1;36m, line \u001b[1;32m23\u001b[0m\n\u001b[1;33m    while start < end:\u001b[0m\n\u001b[1;37m                      ^\u001b[0m\n\u001b[1;31mTabError\u001b[0m\u001b[1;31m:\u001b[0m inconsistent use of tabs and spaces in indentation\n"
     ]
    }
   ],
   "source": [
    "\n",
    "def partition(start, end, array):\n",
    "\tpivot_index = start\n",
    "\tpivot = array[pivot_index]\n",
    "\n",
    "\twhile start < end:\n",
    "\t\twhile start < len(array) and array[start] <= pivot:\n",
    "\t\t\tstart += 1\n",
    "\t\twhile array[end] > pivot:\n",
    "\t\t\tend -= 1\n",
    "\t\tif(start < end):\n",
    "\t\t\tarray[start], array[end] = array[end], array[start]\n",
    "\tarray[end], array[pivot_index] = array[pivot_index], array[end]\n",
    "\t\n",
    "\t# Returning end pointer to divide the array into 2\n",
    "\treturn end\n",
    "\t\n",
    "# The main function that implements QuickSort\n",
    "def quick_sort(start, end, array):\n",
    "\tpivot_index = start\n",
    "\tpivot = array[pivot_index]\n",
    "\t\n",
    "\tif (start < end):\n",
    "        while start < end:\n",
    "            while start < len(array) and array[start] <= pivot:\n",
    "                start += 1\n",
    "            while array[end] > pivot:\n",
    "                end -= 1\n",
    "            if(start < end):\n",
    "                array[start], array[end] = array[end], array[start]\n",
    "\tarray[end], array[pivot_index] = array[pivot_index], array[end]\n",
    "\n",
    "\n",
    "\t\tp = end\n",
    "\n",
    "\t\tquick_sort(start, p - 1, array)\n",
    "\t\tquick_sort(p + 1, end, array)\n",
    "\t\t\n",
    "# Driver code\n",
    "array = [ 10, 7, 8, 9, 1, 5 ]\n",
    "quick_sort(0, len(array) - 1, array)\n",
    "\n",
    "print(f'Sorted array: {array}')\n",
    "\t\n",
    "# This code is contributed by Adnan Aliakbar\n"
   ]
  },
  {
   "cell_type": "code",
   "execution_count": 2,
   "metadata": {},
   "outputs": [
    {
     "name": "stdout",
     "output_type": "stream",
     "text": [
      "Sorted array is:\n",
      "5\n",
      "6\n",
      "11\n",
      "12\n",
      "13\n"
     ]
    }
   ],
   "source": [
    "# Python program for implementation of Insertion Sort\n",
    "\n",
    "# Function to do insertion sort\n",
    "def insertionSort(arr):\n",
    "\n",
    "\t# Traverse through 1 to len(arr)\n",
    "\tfor i in range(1, len(arr)):\n",
    "\n",
    "\t\tkey = arr[i]\n",
    "\n",
    "\t\t# Move elements of arr[0..i-1], that are\n",
    "\t\t# greater than key, to one position ahead\n",
    "\t\t# of their current position\n",
    "\t\tj = i-1\n",
    "\t\twhile j >=0 and key < arr[j] :\n",
    "\t\t\t\tarr[j+1] = arr[j]\n",
    "\t\t\t\tj -= 1\n",
    "\t\tarr[j+1] = key\n",
    "\n",
    "\n",
    "# Driver code to test above\n",
    "arr = [12, 11, 13, 5, 6]\n",
    "insertionSort(arr)\n",
    "print (\"Sorted array is:\")\n",
    "for i in range(len(arr)):\n",
    "\tprint (\"%d\" %arr[i])\n",
    "\n",
    "# This code is contributed by Mohit Kumra\n"
   ]
  },
  {
   "cell_type": "code",
   "execution_count": null,
   "metadata": {},
   "outputs": [],
   "source": [
    "# Python program for implementation of MergeSort\n",
    "\n",
    "# Merges two subarrays of arr[].\n",
    "# First subarray is arr[l..m]\n",
    "# Second subarray is arr[m+1..r]\n",
    "\n",
    "\n",
    "def merge(arr, l, m, r):\n",
    "\tn1 = m - l + 1\n",
    "\tn2 = r - m\n",
    "\n",
    "\t# create temp arrays\n",
    "\tL = [0] * (n1)\n",
    "\tR = [0] * (n2)\n",
    "\n",
    "\t# Copy data to temp arrays L[] and R[]\n",
    "\tfor i in range(0, n1):\n",
    "\t\tL[i] = arr[l + i]\n",
    "\n",
    "\tfor j in range(0, n2):\n",
    "\t\tR[j] = arr[m + 1 + j]\n",
    "\n",
    "\t# Merge the temp arrays back into arr[l..r]\n",
    "\ti = 0\t # Initial index of first subarray\n",
    "\tj = 0\t # Initial index of second subarray\n",
    "\tk = l\t # Initial index of merged subarray\n",
    "\n",
    "\twhile i < n1 and j < n2:\n",
    "\t\tif L[i] <= R[j]:\n",
    "\t\t\tarr[k] = L[i]\n",
    "\t\t\ti += 1\n",
    "\t\telse:\n",
    "\t\t\tarr[k] = R[j]\n",
    "\t\t\tj += 1\n",
    "\t\tk += 1\n",
    "\n",
    "\t# Copy the remaining elements of L[], if there\n",
    "\t# are any\n",
    "\twhile i < n1:\n",
    "\t\tarr[k] = L[i]\n",
    "\t\ti += 1\n",
    "\t\tk += 1\n",
    "\n",
    "\t# Copy the remaining elements of R[], if there\n",
    "\t# are any\n",
    "\twhile j < n2:\n",
    "\t\tarr[k] = R[j]\n",
    "\t\tj += 1\n",
    "\t\tk += 1\n",
    "\n",
    "# l is for left index and r is right index of the\n",
    "# sub-array of arr to be sorted\n",
    "\n",
    "\n",
    "def mergeSort(arr, l, r):\n",
    "\tif l < r:\n",
    "\n",
    "\t\t# Same as (l+r)//2, but avoids overflow for\n",
    "\t\t# large l and h\n",
    "\t\tm = l+(r-l)//2\n",
    "\n",
    "\t\t# Sort first and second halves\n",
    "\t\tmergeSort(arr, l, m)\n",
    "\t\tmergeSort(arr, m+1, r)\n",
    "\t\tmerge(arr, l, m, r)\n",
    "\n",
    "\n",
    "# Driver code to test above\n",
    "arr = [12, 11, 13, 5, 6, 7]\n",
    "n = len(arr)\n",
    "print(\"Given array is\")\n",
    "for i in range(n):\n",
    "\tprint(\"%d\" % arr[i]),\n",
    "\n",
    "mergeSort(arr, 0, n-1)\n",
    "print(\"\\n\\nSorted array is\")\n",
    "for i in range(n):\n",
    "\tprint(\"%d\" % arr[i]),\n",
    "\n",
    "# This code is contributed by Mohit Kumra\n"
   ]
  }
 ],
 "metadata": {
  "interpreter": {
   "hash": "1dbe5302cb3bb4c0fe4e492535fb181d3f49e6b02a7d389fb2104bcbd574eaf4"
  },
  "kernelspec": {
   "display_name": "Python 3.9.7 64-bit ('py39-nlp': conda)",
   "language": "python",
   "name": "python3"
  },
  "language_info": {
   "codemirror_mode": {
    "name": "ipython",
    "version": 3
   },
   "file_extension": ".py",
   "mimetype": "text/x-python",
   "name": "python",
   "nbconvert_exporter": "python",
   "pygments_lexer": "ipython3",
   "version": "3.9.7"
  },
  "orig_nbformat": 4
 },
 "nbformat": 4,
 "nbformat_minor": 2
}
